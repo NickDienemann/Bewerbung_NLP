{
 "cells": [
  {
   "cell_type": "markdown",
   "id": "fc02c9eb",
   "metadata": {},
   "source": [
    "# 1. Imports"
   ]
  },
  {
   "cell_type": "code",
   "execution_count": 2,
   "id": "e467cd82",
   "metadata": {},
   "outputs": [],
   "source": [
    "import pandas as pd\n",
    "from translation import google,bing"
   ]
  },
  {
   "cell_type": "markdown",
   "id": "0373d852",
   "metadata": {},
   "source": [
    "# 2. Load Data\n"
   ]
  },
  {
   "cell_type": "code",
   "execution_count": 3,
   "id": "08820ced",
   "metadata": {},
   "outputs": [],
   "source": [
    "trial_data=pd.read_csv(r\"C:\\Users\\nick\\Code\\MachineLearning_Projects\\Bewerbung_NLP\\data\\selfmade\\dev.tsv\", sep= \"\\t\")"
   ]
  },
  {
   "cell_type": "code",
   "execution_count": 6,
   "id": "9e67ad78",
   "metadata": {},
   "outputs": [
    {
     "data": {
      "text/plain": [
       "'[Feature: Trump’s 90-minute press conference at the United Nations] Trump talked about many issues, from the dispute surrounding his nominee for the US Supreme Court justice, to the Federal Reserve’s interest rate hike, China, and to his brain capacity. O Feature: Trump’s 90-minute press conference at the United Nations 1'"
      ]
     },
     "execution_count": 6,
     "metadata": {},
     "output_type": "execute_result"
    }
   ],
   "source": [
    "trial_data.iloc[0][\"text label\"]"
   ]
  },
  {
   "cell_type": "markdown",
   "id": "d000685a",
   "metadata": {},
   "source": [
    "get train data"
   ]
  },
  {
   "cell_type": "code",
   "execution_count": 8,
   "id": "0a47c1a2",
   "metadata": {},
   "outputs": [],
   "source": [
    "train_data= pd.read_csv(r\"C:\\Users\\nick\\Code\\MachineLearning_Projects\\Bewerbung_NLP\\data\\v1\\v1\\train.tsv\", sep= \"\\t\")"
   ]
  },
  {
   "cell_type": "code",
   "execution_count": 9,
   "id": "87cd106e",
   "metadata": {},
   "outputs": [
    {
     "data": {
      "text/html": [
       "<div>\n",
       "<style scoped>\n",
       "    .dataframe tbody tr th:only-of-type {\n",
       "        vertical-align: middle;\n",
       "    }\n",
       "\n",
       "    .dataframe tbody tr th {\n",
       "        vertical-align: top;\n",
       "    }\n",
       "\n",
       "    .dataframe thead th {\n",
       "        text-align: right;\n",
       "    }\n",
       "</style>\n",
       "<table border=\"1\" class=\"dataframe\">\n",
       "  <thead>\n",
       "    <tr style=\"text-align: right;\">\n",
       "      <th></th>\n",
       "      <th>text</th>\n",
       "      <th>label</th>\n",
       "    </tr>\n",
       "  </thead>\n",
       "  <tbody>\n",
       "    <tr>\n",
       "      <th>0</th>\n",
       "      <td>据说 卡塔尔 要 退出 石油输出国组织 ， 这是 川普 退群潮 的 连锁反应 ， 也 是 世...</td>\n",
       "      <td>0</td>\n",
       "    </tr>\n",
       "    <tr>\n",
       "      <th>1</th>\n",
       "      <td>早上 没 起床 先 各 渠道 看看 与 川普 在 阿根廷 的 会面 。 留给 中国 国家足球...</td>\n",
       "      <td>1</td>\n",
       "    </tr>\n",
       "    <tr>\n",
       "      <th>2</th>\n",
       "      <td>面对 加拿大 及 美国 的 无理 行为 ， 中国 也 可以 （ 无 任何理由 ） 把 加拿大...</td>\n",
       "      <td>0</td>\n",
       "    </tr>\n",
       "    <tr>\n",
       "      <th>3</th>\n",
       "      <td>如果 特朗普 宣布 美国 对 2000 亿 中国 出口 美国 商品 征收 10% 的 关税 ...</td>\n",
       "      <td>1</td>\n",
       "    </tr>\n",
       "    <tr>\n",
       "      <th>4</th>\n",
       "      <td>两个 白日梦 什么 时候 能 像 宣传 禁毒 一样 宣传 反 强奸 什么 时候 防空警报 能...</td>\n",
       "      <td>0</td>\n",
       "    </tr>\n",
       "    <tr>\n",
       "      <th>...</th>\n",
       "      <td>...</td>\n",
       "      <td>...</td>\n",
       "    </tr>\n",
       "    <tr>\n",
       "      <th>1507</th>\n",
       "      <td>路透社 - - - 美国 总统 特朗普 周三 表示 ， 他 已 就 沙特 记者 贾 迈勒 •...</td>\n",
       "      <td>0</td>\n",
       "    </tr>\n",
       "    <tr>\n",
       "      <th>1508</th>\n",
       "      <td>池子 在 为 红黄蓝 发声 的 时候 ， 在 为 朱军性 侵 女生 发声 的 时候 ， 你们...</td>\n",
       "      <td>1</td>\n",
       "    </tr>\n",
       "    <tr>\n",
       "      <th>1509</th>\n",
       "      <td>外国人 拍 1979 年 中国 ： 多地 仍 残留 着 文革 标语 。 O 外国人 拍 19...</td>\n",
       "      <td>0</td>\n",
       "    </tr>\n",
       "    <tr>\n",
       "      <th>1510</th>\n",
       "      <td>最近 美国政府 派出 的 合规 官员 进驻 中国 中兴公司 ， 这一 做法 就 像 当年 二...</td>\n",
       "      <td>1</td>\n",
       "    </tr>\n",
       "    <tr>\n",
       "      <th>1511</th>\n",
       "      <td>黄冈市 浠水县 巴河镇 建造 垃圾焚烧 厂 这种 情况 不能 引起 上级 相关 部门 重视 ...</td>\n",
       "      <td>1</td>\n",
       "    </tr>\n",
       "  </tbody>\n",
       "</table>\n",
       "<p>1512 rows × 2 columns</p>\n",
       "</div>"
      ],
      "text/plain": [
       "                                                   text  label\n",
       "0     据说 卡塔尔 要 退出 石油输出国组织 ， 这是 川普 退群潮 的 连锁反应 ， 也 是 世...      0\n",
       "1     早上 没 起床 先 各 渠道 看看 与 川普 在 阿根廷 的 会面 。 留给 中国 国家足球...      1\n",
       "2     面对 加拿大 及 美国 的 无理 行为 ， 中国 也 可以 （ 无 任何理由 ） 把 加拿大...      0\n",
       "3     如果 特朗普 宣布 美国 对 2000 亿 中国 出口 美国 商品 征收 10% 的 关税 ...      1\n",
       "4     两个 白日梦 什么 时候 能 像 宣传 禁毒 一样 宣传 反 强奸 什么 时候 防空警报 能...      0\n",
       "...                                                 ...    ...\n",
       "1507  路透社 - - - 美国 总统 特朗普 周三 表示 ， 他 已 就 沙特 记者 贾 迈勒 •...      0\n",
       "1508  池子 在 为 红黄蓝 发声 的 时候 ， 在 为 朱军性 侵 女生 发声 的 时候 ， 你们...      1\n",
       "1509  外国人 拍 1979 年 中国 ： 多地 仍 残留 着 文革 标语 。 O 外国人 拍 19...      0\n",
       "1510  最近 美国政府 派出 的 合规 官员 进驻 中国 中兴公司 ， 这一 做法 就 像 当年 二...      1\n",
       "1511  黄冈市 浠水县 巴河镇 建造 垃圾焚烧 厂 这种 情况 不能 引起 上级 相关 部门 重视 ...      1\n",
       "\n",
       "[1512 rows x 2 columns]"
      ]
     },
     "execution_count": 9,
     "metadata": {},
     "output_type": "execute_result"
    }
   ],
   "source": [
    "train_data"
   ]
  },
  {
   "cell_type": "markdown",
   "id": "2b136b4f",
   "metadata": {},
   "source": [
    "get dev data"
   ]
  },
  {
   "cell_type": "code",
   "execution_count": 7,
   "id": "ef27c8e2",
   "metadata": {},
   "outputs": [],
   "source": [
    "dev_data= pd.read_csv(r\"C:\\Users\\nick\\Code\\MachineLearning_Projects\\Bewerbung_NLP\\data\\v1\\v1\\dev.tsv\", sep= \"\\t\")"
   ]
  },
  {
   "cell_type": "code",
   "execution_count": 10,
   "id": "20c6fc3e",
   "metadata": {},
   "outputs": [
    {
     "data": {
      "text/html": [
       "<div>\n",
       "<style scoped>\n",
       "    .dataframe tbody tr th:only-of-type {\n",
       "        vertical-align: middle;\n",
       "    }\n",
       "\n",
       "    .dataframe tbody tr th {\n",
       "        vertical-align: top;\n",
       "    }\n",
       "\n",
       "    .dataframe thead th {\n",
       "        text-align: right;\n",
       "    }\n",
       "</style>\n",
       "<table border=\"1\" class=\"dataframe\">\n",
       "  <thead>\n",
       "    <tr style=\"text-align: right;\">\n",
       "      <th></th>\n",
       "      <th>text</th>\n",
       "      <th>label</th>\n",
       "    </tr>\n",
       "  </thead>\n",
       "  <tbody>\n",
       "    <tr>\n",
       "      <th>0</th>\n",
       "      <td>【 特写 ： 特朗普 在 联合国 的 90 分钟 记者会 】 特朗普 谈到 了 许多 问题 ...</td>\n",
       "      <td>1</td>\n",
       "    </tr>\n",
       "    <tr>\n",
       "      <th>1</th>\n",
       "      <td>米国 现在 在 川普 的 治理 下 ， 越来越 龌龊 和 出尔反尔 、 不可 预期 。 前 ...</td>\n",
       "      <td>1</td>\n",
       "    </tr>\n",
       "    <tr>\n",
       "      <th>2</th>\n",
       "      <td>本人 诚恳 的 向 首页 、 广场 的 各位 英雄好汉 、 姊妹 们 ！ 求 《 樱野三加 ...</td>\n",
       "      <td>1</td>\n",
       "    </tr>\n",
       "    <tr>\n",
       "      <th>3</th>\n",
       "      <td>沙特 官员 们 表示 ： 特朗普 在 伊朗 制裁 上 缺乏 坦率 ， 感觉 沙特 被 美国 ...</td>\n",
       "      <td>0</td>\n",
       "    </tr>\n",
       "    <tr>\n",
       "      <th>4</th>\n",
       "      <td>人权 也好 ， 尊严 也罢 ， 都 是 普世 价值 ， 不能 搞 内外有别 的 双重标准 。...</td>\n",
       "      <td>0</td>\n",
       "    </tr>\n",
       "    <tr>\n",
       "      <th>...</th>\n",
       "      <td>...</td>\n",
       "      <td>...</td>\n",
       "    </tr>\n",
       "    <tr>\n",
       "      <th>184</th>\n",
       "      <td>禁止 过洋 节 过 圣诞 都 能 扯 到 八国联军 侵华 ？ 还 能 扯 到 爱国 和 宗教...</td>\n",
       "      <td>1</td>\n",
       "    </tr>\n",
       "    <tr>\n",
       "      <th>185</th>\n",
       "      <td>这个 文章 就 有点 无耻 了 ， 你 拿 一个 3000 多万 人口 国家 GDP 和 1...</td>\n",
       "      <td>0</td>\n",
       "    </tr>\n",
       "    <tr>\n",
       "      <th>186</th>\n",
       "      <td>【 2018.10 . 21 】 1967 年 ， 老一辈 革命家 与 中央 文革 小组 错...</td>\n",
       "      <td>0</td>\n",
       "    </tr>\n",
       "    <tr>\n",
       "      <th>187</th>\n",
       "      <td>周子 瑜 太 撩 了 不是 台独 ， 也 不屑于 买 热 搜 ， 南韩 、 霓虹 实红 ， ...</td>\n",
       "      <td>1</td>\n",
       "    </tr>\n",
       "    <tr>\n",
       "      <th>188</th>\n",
       "      <td>美国 总统 唐纳德 · 特朗普 表示 ， 在 收到 中国 对 他 要求 的 回应 后 ， 他...</td>\n",
       "      <td>1</td>\n",
       "    </tr>\n",
       "  </tbody>\n",
       "</table>\n",
       "<p>189 rows × 2 columns</p>\n",
       "</div>"
      ],
      "text/plain": [
       "                                                  text  label\n",
       "0    【 特写 ： 特朗普 在 联合国 的 90 分钟 记者会 】 特朗普 谈到 了 许多 问题 ...      1\n",
       "1    米国 现在 在 川普 的 治理 下 ， 越来越 龌龊 和 出尔反尔 、 不可 预期 。 前 ...      1\n",
       "2    本人 诚恳 的 向 首页 、 广场 的 各位 英雄好汉 、 姊妹 们 ！ 求 《 樱野三加 ...      1\n",
       "3    沙特 官员 们 表示 ： 特朗普 在 伊朗 制裁 上 缺乏 坦率 ， 感觉 沙特 被 美国 ...      0\n",
       "4    人权 也好 ， 尊严 也罢 ， 都 是 普世 价值 ， 不能 搞 内外有别 的 双重标准 。...      0\n",
       "..                                                 ...    ...\n",
       "184  禁止 过洋 节 过 圣诞 都 能 扯 到 八国联军 侵华 ？ 还 能 扯 到 爱国 和 宗教...      1\n",
       "185  这个 文章 就 有点 无耻 了 ， 你 拿 一个 3000 多万 人口 国家 GDP 和 1...      0\n",
       "186  【 2018.10 . 21 】 1967 年 ， 老一辈 革命家 与 中央 文革 小组 错...      0\n",
       "187  周子 瑜 太 撩 了 不是 台独 ， 也 不屑于 买 热 搜 ， 南韩 、 霓虹 实红 ， ...      1\n",
       "188  美国 总统 唐纳德 · 特朗普 表示 ， 在 收到 中国 对 他 要求 的 回应 后 ， 他...      1\n",
       "\n",
       "[189 rows x 2 columns]"
      ]
     },
     "execution_count": 10,
     "metadata": {},
     "output_type": "execute_result"
    }
   ],
   "source": [
    "dev_data\n"
   ]
  },
  {
   "cell_type": "code",
   "execution_count": 7,
   "id": "ebc84bdb",
   "metadata": {},
   "outputs": [],
   "source": [
    "en_train_data=pd.read_csv(r\"C:\\Users\\nick\\Code\\MachineLearning_Projects\\Bewerbung_NLP\\data\\selfmade\\en_train.csv\")"
   ]
  },
  {
   "cell_type": "code",
   "execution_count": 10,
   "id": "96efd292",
   "metadata": {},
   "outputs": [],
   "source": [
    "en_dev_data =pd.read_csv(r\"C:\\Users\\nick\\Code\\MachineLearning_Projects\\Bewerbung_NLP\\data\\selfmade\\en_dev_2.csv\",index)"
   ]
  },
  {
   "cell_type": "code",
   "execution_count": 22,
   "id": "15c660b4",
   "metadata": {},
   "outputs": [],
   "source": [
    "en_train_data = en_train_data.drop(\"Unnamed: 0\",axis=1)"
   ]
  },
  {
   "cell_type": "code",
   "execution_count": 23,
   "id": "a761f59d",
   "metadata": {},
   "outputs": [],
   "source": [
    "en_train_data.to_csv(r\"C:\\Users\\nick\\Code\\MachineLearning_Projects\\Bewerbung_NLP\\data\\selfmade\\en_train_2.csv\",index=False)"
   ]
  },
  {
   "cell_type": "code",
   "execution_count": 16,
   "id": "91f68bce",
   "metadata": {},
   "outputs": [
    {
     "data": {
      "text/plain": [
       "Index(['Unnamed: 0', 'text', 'label'], dtype='object')"
      ]
     },
     "execution_count": 16,
     "metadata": {},
     "output_type": "execute_result"
    }
   ],
   "source": [
    "en_dev_data.columns"
   ]
  },
  {
   "cell_type": "code",
   "execution_count": 18,
   "id": "45a40683",
   "metadata": {
    "scrolled": false
   },
   "outputs": [
    {
     "ename": "KeyError",
     "evalue": "\"['Unnamed: 0'] not found in axis\"",
     "output_type": "error",
     "traceback": [
      "\u001b[1;31m---------------------------------------------------------------------------\u001b[0m",
      "\u001b[1;31mKeyError\u001b[0m                                  Traceback (most recent call last)",
      "\u001b[1;32m~\\AppData\\Local\\Temp/ipykernel_14120/1135026740.py\u001b[0m in \u001b[0;36m<module>\u001b[1;34m\u001b[0m\n\u001b[1;32m----> 1\u001b[1;33m \u001b[0men_dev_data\u001b[0m\u001b[1;33m=\u001b[0m\u001b[0men_dev_data\u001b[0m\u001b[1;33m.\u001b[0m\u001b[0mdrop\u001b[0m\u001b[1;33m(\u001b[0m\u001b[1;34m\"Unnamed: 0\"\u001b[0m\u001b[1;33m,\u001b[0m\u001b[0maxis\u001b[0m\u001b[1;33m=\u001b[0m\u001b[1;36m1\u001b[0m\u001b[1;33m)\u001b[0m\u001b[1;33m\u001b[0m\u001b[1;33m\u001b[0m\u001b[0m\n\u001b[0m",
      "\u001b[1;32mc:\\users\\nick\\code\\machinelearning_projects\\bewerbung_nlp\\venv\\lib\\site-packages\\pandas\\util\\_decorators.py\u001b[0m in \u001b[0;36mwrapper\u001b[1;34m(*args, **kwargs)\u001b[0m\n\u001b[0;32m    309\u001b[0m                     \u001b[0mstacklevel\u001b[0m\u001b[1;33m=\u001b[0m\u001b[0mstacklevel\u001b[0m\u001b[1;33m,\u001b[0m\u001b[1;33m\u001b[0m\u001b[1;33m\u001b[0m\u001b[0m\n\u001b[0;32m    310\u001b[0m                 )\n\u001b[1;32m--> 311\u001b[1;33m             \u001b[1;32mreturn\u001b[0m \u001b[0mfunc\u001b[0m\u001b[1;33m(\u001b[0m\u001b[1;33m*\u001b[0m\u001b[0margs\u001b[0m\u001b[1;33m,\u001b[0m \u001b[1;33m**\u001b[0m\u001b[0mkwargs\u001b[0m\u001b[1;33m)\u001b[0m\u001b[1;33m\u001b[0m\u001b[1;33m\u001b[0m\u001b[0m\n\u001b[0m\u001b[0;32m    312\u001b[0m \u001b[1;33m\u001b[0m\u001b[0m\n\u001b[0;32m    313\u001b[0m         \u001b[1;32mreturn\u001b[0m \u001b[0mwrapper\u001b[0m\u001b[1;33m\u001b[0m\u001b[1;33m\u001b[0m\u001b[0m\n",
      "\u001b[1;32mc:\\users\\nick\\code\\machinelearning_projects\\bewerbung_nlp\\venv\\lib\\site-packages\\pandas\\core\\frame.py\u001b[0m in \u001b[0;36mdrop\u001b[1;34m(self, labels, axis, index, columns, level, inplace, errors)\u001b[0m\n\u001b[0;32m   4899\u001b[0m                 \u001b[0mweight\u001b[0m  \u001b[1;36m1.0\u001b[0m     \u001b[1;36m0.8\u001b[0m\u001b[1;33m\u001b[0m\u001b[1;33m\u001b[0m\u001b[0m\n\u001b[0;32m   4900\u001b[0m         \"\"\"\n\u001b[1;32m-> 4901\u001b[1;33m         return super().drop(\n\u001b[0m\u001b[0;32m   4902\u001b[0m             \u001b[0mlabels\u001b[0m\u001b[1;33m=\u001b[0m\u001b[0mlabels\u001b[0m\u001b[1;33m,\u001b[0m\u001b[1;33m\u001b[0m\u001b[1;33m\u001b[0m\u001b[0m\n\u001b[0;32m   4903\u001b[0m             \u001b[0maxis\u001b[0m\u001b[1;33m=\u001b[0m\u001b[0maxis\u001b[0m\u001b[1;33m,\u001b[0m\u001b[1;33m\u001b[0m\u001b[1;33m\u001b[0m\u001b[0m\n",
      "\u001b[1;32mc:\\users\\nick\\code\\machinelearning_projects\\bewerbung_nlp\\venv\\lib\\site-packages\\pandas\\core\\generic.py\u001b[0m in \u001b[0;36mdrop\u001b[1;34m(self, labels, axis, index, columns, level, inplace, errors)\u001b[0m\n\u001b[0;32m   4145\u001b[0m         \u001b[1;32mfor\u001b[0m \u001b[0maxis\u001b[0m\u001b[1;33m,\u001b[0m \u001b[0mlabels\u001b[0m \u001b[1;32min\u001b[0m \u001b[0maxes\u001b[0m\u001b[1;33m.\u001b[0m\u001b[0mitems\u001b[0m\u001b[1;33m(\u001b[0m\u001b[1;33m)\u001b[0m\u001b[1;33m:\u001b[0m\u001b[1;33m\u001b[0m\u001b[1;33m\u001b[0m\u001b[0m\n\u001b[0;32m   4146\u001b[0m             \u001b[1;32mif\u001b[0m \u001b[0mlabels\u001b[0m \u001b[1;32mis\u001b[0m \u001b[1;32mnot\u001b[0m \u001b[1;32mNone\u001b[0m\u001b[1;33m:\u001b[0m\u001b[1;33m\u001b[0m\u001b[1;33m\u001b[0m\u001b[0m\n\u001b[1;32m-> 4147\u001b[1;33m                 \u001b[0mobj\u001b[0m \u001b[1;33m=\u001b[0m \u001b[0mobj\u001b[0m\u001b[1;33m.\u001b[0m\u001b[0m_drop_axis\u001b[0m\u001b[1;33m(\u001b[0m\u001b[0mlabels\u001b[0m\u001b[1;33m,\u001b[0m \u001b[0maxis\u001b[0m\u001b[1;33m,\u001b[0m \u001b[0mlevel\u001b[0m\u001b[1;33m=\u001b[0m\u001b[0mlevel\u001b[0m\u001b[1;33m,\u001b[0m \u001b[0merrors\u001b[0m\u001b[1;33m=\u001b[0m\u001b[0merrors\u001b[0m\u001b[1;33m)\u001b[0m\u001b[1;33m\u001b[0m\u001b[1;33m\u001b[0m\u001b[0m\n\u001b[0m\u001b[0;32m   4148\u001b[0m \u001b[1;33m\u001b[0m\u001b[0m\n\u001b[0;32m   4149\u001b[0m         \u001b[1;32mif\u001b[0m \u001b[0minplace\u001b[0m\u001b[1;33m:\u001b[0m\u001b[1;33m\u001b[0m\u001b[1;33m\u001b[0m\u001b[0m\n",
      "\u001b[1;32mc:\\users\\nick\\code\\machinelearning_projects\\bewerbung_nlp\\venv\\lib\\site-packages\\pandas\\core\\generic.py\u001b[0m in \u001b[0;36m_drop_axis\u001b[1;34m(self, labels, axis, level, errors)\u001b[0m\n\u001b[0;32m   4180\u001b[0m                 \u001b[0mnew_axis\u001b[0m \u001b[1;33m=\u001b[0m \u001b[0maxis\u001b[0m\u001b[1;33m.\u001b[0m\u001b[0mdrop\u001b[0m\u001b[1;33m(\u001b[0m\u001b[0mlabels\u001b[0m\u001b[1;33m,\u001b[0m \u001b[0mlevel\u001b[0m\u001b[1;33m=\u001b[0m\u001b[0mlevel\u001b[0m\u001b[1;33m,\u001b[0m \u001b[0merrors\u001b[0m\u001b[1;33m=\u001b[0m\u001b[0merrors\u001b[0m\u001b[1;33m)\u001b[0m\u001b[1;33m\u001b[0m\u001b[1;33m\u001b[0m\u001b[0m\n\u001b[0;32m   4181\u001b[0m             \u001b[1;32melse\u001b[0m\u001b[1;33m:\u001b[0m\u001b[1;33m\u001b[0m\u001b[1;33m\u001b[0m\u001b[0m\n\u001b[1;32m-> 4182\u001b[1;33m                 \u001b[0mnew_axis\u001b[0m \u001b[1;33m=\u001b[0m \u001b[0maxis\u001b[0m\u001b[1;33m.\u001b[0m\u001b[0mdrop\u001b[0m\u001b[1;33m(\u001b[0m\u001b[0mlabels\u001b[0m\u001b[1;33m,\u001b[0m \u001b[0merrors\u001b[0m\u001b[1;33m=\u001b[0m\u001b[0merrors\u001b[0m\u001b[1;33m)\u001b[0m\u001b[1;33m\u001b[0m\u001b[1;33m\u001b[0m\u001b[0m\n\u001b[0m\u001b[0;32m   4183\u001b[0m             \u001b[0mresult\u001b[0m \u001b[1;33m=\u001b[0m \u001b[0mself\u001b[0m\u001b[1;33m.\u001b[0m\u001b[0mreindex\u001b[0m\u001b[1;33m(\u001b[0m\u001b[1;33m**\u001b[0m\u001b[1;33m{\u001b[0m\u001b[0maxis_name\u001b[0m\u001b[1;33m:\u001b[0m \u001b[0mnew_axis\u001b[0m\u001b[1;33m}\u001b[0m\u001b[1;33m)\u001b[0m\u001b[1;33m\u001b[0m\u001b[1;33m\u001b[0m\u001b[0m\n\u001b[0;32m   4184\u001b[0m \u001b[1;33m\u001b[0m\u001b[0m\n",
      "\u001b[1;32mc:\\users\\nick\\code\\machinelearning_projects\\bewerbung_nlp\\venv\\lib\\site-packages\\pandas\\core\\indexes\\base.py\u001b[0m in \u001b[0;36mdrop\u001b[1;34m(self, labels, errors)\u001b[0m\n\u001b[0;32m   6016\u001b[0m         \u001b[1;32mif\u001b[0m \u001b[0mmask\u001b[0m\u001b[1;33m.\u001b[0m\u001b[0many\u001b[0m\u001b[1;33m(\u001b[0m\u001b[1;33m)\u001b[0m\u001b[1;33m:\u001b[0m\u001b[1;33m\u001b[0m\u001b[1;33m\u001b[0m\u001b[0m\n\u001b[0;32m   6017\u001b[0m             \u001b[1;32mif\u001b[0m \u001b[0merrors\u001b[0m \u001b[1;33m!=\u001b[0m \u001b[1;34m\"ignore\"\u001b[0m\u001b[1;33m:\u001b[0m\u001b[1;33m\u001b[0m\u001b[1;33m\u001b[0m\u001b[0m\n\u001b[1;32m-> 6018\u001b[1;33m                 \u001b[1;32mraise\u001b[0m \u001b[0mKeyError\u001b[0m\u001b[1;33m(\u001b[0m\u001b[1;34mf\"{labels[mask]} not found in axis\"\u001b[0m\u001b[1;33m)\u001b[0m\u001b[1;33m\u001b[0m\u001b[1;33m\u001b[0m\u001b[0m\n\u001b[0m\u001b[0;32m   6019\u001b[0m             \u001b[0mindexer\u001b[0m \u001b[1;33m=\u001b[0m \u001b[0mindexer\u001b[0m\u001b[1;33m[\u001b[0m\u001b[1;33m~\u001b[0m\u001b[0mmask\u001b[0m\u001b[1;33m]\u001b[0m\u001b[1;33m\u001b[0m\u001b[1;33m\u001b[0m\u001b[0m\n\u001b[0;32m   6020\u001b[0m         \u001b[1;32mreturn\u001b[0m \u001b[0mself\u001b[0m\u001b[1;33m.\u001b[0m\u001b[0mdelete\u001b[0m\u001b[1;33m(\u001b[0m\u001b[0mindexer\u001b[0m\u001b[1;33m)\u001b[0m\u001b[1;33m\u001b[0m\u001b[1;33m\u001b[0m\u001b[0m\n",
      "\u001b[1;31mKeyError\u001b[0m: \"['Unnamed: 0'] not found in axis\""
     ]
    }
   ],
   "source": [
    "en_dev_data=en_dev_data.drop(\"Unnamed: 0\",axis=1)\n"
   ]
  },
  {
   "cell_type": "code",
   "execution_count": 19,
   "id": "b24d9c5e",
   "metadata": {
    "scrolled": true
   },
   "outputs": [
    {
     "data": {
      "text/html": [
       "<div>\n",
       "<style scoped>\n",
       "    .dataframe tbody tr th:only-of-type {\n",
       "        vertical-align: middle;\n",
       "    }\n",
       "\n",
       "    .dataframe tbody tr th {\n",
       "        vertical-align: top;\n",
       "    }\n",
       "\n",
       "    .dataframe thead th {\n",
       "        text-align: right;\n",
       "    }\n",
       "</style>\n",
       "<table border=\"1\" class=\"dataframe\">\n",
       "  <thead>\n",
       "    <tr style=\"text-align: right;\">\n",
       "      <th></th>\n",
       "      <th>text</th>\n",
       "      <th>label</th>\n",
       "    </tr>\n",
       "  </thead>\n",
       "  <tbody>\n",
       "    <tr>\n",
       "      <th>0</th>\n",
       "      <td>[Trump] Trump's 90-minute reporter meeting] Tr...</td>\n",
       "      <td>1</td>\n",
       "    </tr>\n",
       "    <tr>\n",
       "      <th>1</th>\n",
       "      <td>Under the governance of Kawa, Mi State is incr...</td>\n",
       "      <td>1</td>\n",
       "    </tr>\n",
       "    <tr>\n",
       "      <th>2</th>\n",
       "      <td>I sincerely honest, the heroes of the heroes, ...</td>\n",
       "      <td>1</td>\n",
       "    </tr>\n",
       "    <tr>\n",
       "      <th>3</th>\n",
       "      <td>Saudi officials said: Trump lacks frank in Ira...</td>\n",
       "      <td>0</td>\n",
       "    </tr>\n",
       "    <tr>\n",
       "      <th>4</th>\n",
       "      <td>Human rights is also good, dignity, all are un...</td>\n",
       "      <td>0</td>\n",
       "    </tr>\n",
       "    <tr>\n",
       "      <th>...</th>\n",
       "      <td>...</td>\n",
       "      <td>...</td>\n",
       "    </tr>\n",
       "    <tr>\n",
       "      <th>184</th>\n",
       "      <td>It is forbidden to pass Christmas to the Eight...</td>\n",
       "      <td>1</td>\n",
       "    </tr>\n",
       "    <tr>\n",
       "      <th>185</th>\n",
       "      <td>This article is a bit shameless, you take a GD...</td>\n",
       "      <td>0</td>\n",
       "    </tr>\n",
       "    <tr>\n",
       "      <th>186</th>\n",
       "      <td>[2018.10. 21] In 1967, the anti-struggle of th...</td>\n",
       "      <td>0</td>\n",
       "    </tr>\n",
       "    <tr>\n",
       "      <th>187</th>\n",
       "      <td>Zhou Zi Yu is too licking, it is not a special...</td>\n",
       "      <td>1</td>\n",
       "    </tr>\n",
       "    <tr>\n",
       "      <th>188</th>\n",
       "      <td>US President Donald Trump said that after rece...</td>\n",
       "      <td>1</td>\n",
       "    </tr>\n",
       "  </tbody>\n",
       "</table>\n",
       "<p>189 rows × 2 columns</p>\n",
       "</div>"
      ],
      "text/plain": [
       "                                                  text  label\n",
       "0    [Trump] Trump's 90-minute reporter meeting] Tr...      1\n",
       "1    Under the governance of Kawa, Mi State is incr...      1\n",
       "2    I sincerely honest, the heroes of the heroes, ...      1\n",
       "3    Saudi officials said: Trump lacks frank in Ira...      0\n",
       "4    Human rights is also good, dignity, all are un...      0\n",
       "..                                                 ...    ...\n",
       "184  It is forbidden to pass Christmas to the Eight...      1\n",
       "185  This article is a bit shameless, you take a GD...      0\n",
       "186  [2018.10. 21] In 1967, the anti-struggle of th...      0\n",
       "187  Zhou Zi Yu is too licking, it is not a special...      1\n",
       "188  US President Donald Trump said that after rece...      1\n",
       "\n",
       "[189 rows x 2 columns]"
      ]
     },
     "execution_count": 19,
     "metadata": {},
     "output_type": "execute_result"
    }
   ],
   "source": [
    "en_dev_data"
   ]
  },
  {
   "cell_type": "code",
   "execution_count": 21,
   "id": "9dd65d1b",
   "metadata": {},
   "outputs": [],
   "source": [
    "en_dev_data.to_csv(r\"C:\\Users\\nick\\Code\\MachineLearning_Projects\\Bewerbung_NLP\\data\\selfmade\\en_dev_3.csv\",index=False)"
   ]
  },
  {
   "cell_type": "markdown",
   "id": "4b2ba64c",
   "metadata": {},
   "source": [
    "# 3. explore data"
   ]
  },
  {
   "cell_type": "code",
   "execution_count": 26,
   "id": "137ebbd6",
   "metadata": {
    "scrolled": true
   },
   "outputs": [
    {
     "data": {
      "text/plain": [
       "'【 特写 ： 特朗普 在 联合国 的 90 分钟 记者会 】 特朗普 谈到 了 许多 问题 ， 从 围绕 他 的 美国最高法院 大法官 提名 人 的 争议 、 到 美联储 加息 、 中国 、 再 到 他 的 脑 容量 。 O 特写 ： 特朗普 在 联合国 的 90 分钟 记者会'"
      ]
     },
     "execution_count": 26,
     "metadata": {},
     "output_type": "execute_result"
    }
   ],
   "source": [
    "dev_data.iloc[0][\"text\"]"
   ]
  },
  {
   "cell_type": "markdown",
   "id": "02c50fd7",
   "metadata": {},
   "source": [
    "count the number of word in the entire datasets"
   ]
  },
  {
   "cell_type": "code",
   "execution_count": 24,
   "id": "11d8c9d7",
   "metadata": {},
   "outputs": [],
   "source": [
    "en_dev_data= pd.read_csv(r\"C:\\Users\\nick\\Code\\MachineLearning_Projects\\Bewerbung_NLP\\data\\selfmade\\en_train_2.csv\")"
   ]
  },
  {
   "cell_type": "code",
   "execution_count": 28,
   "id": "18d9abed",
   "metadata": {},
   "outputs": [
    {
     "data": {
      "text/plain": [
       "\"Tianjin Daily Tianjin Daily, as a national enterprise, using the eight fish P2P to defraud 10,000 people's hard-earned money, and finally use the pot, force threatens to suppress, threatened, and stronger, I don't know how long this Weibo will beHarmony, but I expect that some people can come up with our master.\""
      ]
     },
     "execution_count": 28,
     "metadata": {},
     "output_type": "execute_result"
    }
   ],
   "source": [
    "en_dev_data.iloc[5][\"text\"]"
   ]
  },
  {
   "cell_type": "code",
   "execution_count": null,
   "id": "76d3d7a9",
   "metadata": {},
   "outputs": [],
   "source": []
  }
 ],
 "metadata": {
  "kernelspec": {
   "display_name": "Python 3 (ipykernel)",
   "language": "python",
   "name": "python3"
  },
  "language_info": {
   "codemirror_mode": {
    "name": "ipython",
    "version": 3
   },
   "file_extension": ".py",
   "mimetype": "text/x-python",
   "name": "python",
   "nbconvert_exporter": "python",
   "pygments_lexer": "ipython3",
   "version": "3.8.6"
  }
 },
 "nbformat": 4,
 "nbformat_minor": 5
}
