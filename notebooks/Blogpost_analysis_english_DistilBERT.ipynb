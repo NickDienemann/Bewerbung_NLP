{
 "cells": [
  {
   "cell_type": "markdown",
   "source": [
    "# 1. Setup"
   ],
   "metadata": {}
  },
  {
   "cell_type": "markdown",
   "source": [
    "## 1.1 Imports"
   ],
   "metadata": {}
  },
  {
   "cell_type": "code",
   "execution_count": 1,
   "source": [
    "#imports\r\n",
    "import torch\r\n",
    "from torch.utils.data import Dataset,DataLoader,Subset\r\n",
    "from transformers import DistilBertForSequenceClassification,DistilBertConfig,DistilBertTokenizer\r\n",
    "from torch.optim import Adam\r\n",
    "from torch.optim.lr_scheduler import ExponentialLR\r\n",
    "from torch.nn import CrossEntropyLoss \r\n",
    "\r\n",
    "from sklearn.metrics import accuracy_score,precision_score,confusion_matrix\r\n",
    "\r\n",
    "import pandas as pd\r\n",
    "import matplotlib.pyplot as plt\r\n",
    "import numpy as np\r\n",
    "from collections import namedtuple\r\n",
    "\r\n",
    "from pathlib import Path\r\n",
    "import pathlib\r\n",
    "import os\r\n",
    "import json\r\n",
    "import simplejson\r\n",
    "import warnings\r\n",
    "\r\n"
   ],
   "outputs": [],
   "metadata": {}
  },
  {
   "cell_type": "markdown",
   "source": [
    "## 1.2 Cuda"
   ],
   "metadata": {}
  },
  {
   "cell_type": "markdown",
   "source": [
    "use cuda if available"
   ],
   "metadata": {}
  },
  {
   "cell_type": "code",
   "execution_count": 2,
   "source": [
    "#define device\r\n",
    "device= torch.device(\"cuda:0\") if torch.cuda.is_available() else torch.device(\"cpu\")"
   ],
   "outputs": [],
   "metadata": {}
  },
  {
   "cell_type": "markdown",
   "source": [
    "## 1.3 Parameters"
   ],
   "metadata": {}
  },
  {
   "cell_type": "markdown",
   "source": [
    "This section holds all tuneable parameters of this notebook seperated into different categories according to target area"
   ],
   "metadata": {}
  },
  {
   "cell_type": "code",
   "execution_count": 3,
   "source": [
    "notebook_parameters={\"model_parameters\":None,\r\n",
    "                     \"training_parameters\":None,\r\n",
    "                     \"data_parameters\":None,\r\n",
    "                     \"storage_parameters\":None}"
   ],
   "outputs": [],
   "metadata": {}
  },
  {
   "cell_type": "markdown",
   "source": [
    "### 1.3.1 Model Parameters"
   ],
   "metadata": {}
  },
  {
   "cell_type": "markdown",
   "source": [
    "dict that will be passed to BertConfig to configure the model used"
   ],
   "metadata": {}
  },
  {
   "cell_type": "code",
   "execution_count": 4,
   "source": [
    "notebook_parameters[\"model_parameters\"]={\"n_layers\":16,\r\n",
    "                                         \"n_heads\":8,\r\n",
    "                                         \"seq_classif_dropout\": 0.2,\r\n",
    "                                         \"dropout\":0.2,\r\n",
    "                                         \"attention_dropout\":0.2\r\n",
    "                                        }"
   ],
   "outputs": [],
   "metadata": {}
  },
  {
   "cell_type": "markdown",
   "source": [
    "### 1.3.2 Training Parameters"
   ],
   "metadata": {}
  },
  {
   "cell_type": "code",
   "execution_count": 5,
   "source": [
    "notebook_parameters[\"training_parameters\"]={\"optimizer\": Adam,\r\n",
    "                                            \"optimizer_kwargs\": {\"lr\": 1e-4, \"betas\":(0.9,0.999)},\r\n",
    "                                            \"learningrate_scheduler\": ExponentialLR,\r\n",
    "                                            \"update_lr_every_n_batches\": 100,\r\n",
    "                                            \"learningrate_scheduler_kwargs\": {\"gamma\": 0.999},\r\n",
    "                                            \"number_of_epochs\": 3,\r\n",
    "                                            \"loss_function\": CrossEntropyLoss(),\r\n",
    "                                            \"validate_every_n_batches\": 100,\r\n",
    "                                            \"calc_ewma\":True\r\n",
    "                                            }"
   ],
   "outputs": [],
   "metadata": {}
  },
  {
   "cell_type": "markdown",
   "source": [
    "### 1.3.3 Data parameters"
   ],
   "metadata": {}
  },
  {
   "cell_type": "code",
   "execution_count": 6,
   "source": [
    "notebook_parameters[\"data_parameters\"]={\"batchsize\":8,\r\n",
    "                                        \"path_to_train_data\":r\"C:\\path\\to\\data\\english_datasets\\en_train.csv\",\r\n",
    "                                        \"train_limit\": -1,\r\n",
    "                                        \"path_to_valid_data\":r\"C:\\path\\to\\data\\english_datasets\\en_dev.csv\",\r\n",
    "                                        \"valid_limit\": -1,\r\n",
    "                                        }"
   ],
   "outputs": [],
   "metadata": {}
  },
  {
   "cell_type": "markdown",
   "source": [
    "### 1.3.4 Storage parameters"
   ],
   "metadata": {}
  },
  {
   "cell_type": "code",
   "execution_count": 7,
   "source": [
    "notebook_parameters[\"storage_parameters\"]= {\"path_to_model_storage\": Path(r\"C:\\path\\to\\trainings\\trained_models\")\r\n",
    "                                           }"
   ],
   "outputs": [],
   "metadata": {}
  },
  {
   "cell_type": "markdown",
   "source": [
    "# 2. Datasets and Transforms"
   ],
   "metadata": {}
  },
  {
   "cell_type": "markdown",
   "source": [
    "## 2.1 Original Dataset"
   ],
   "metadata": {}
  },
  {
   "cell_type": "markdown",
   "source": [
    "Create a class that will hold the initial dataset directly derived from the translated original data"
   ],
   "metadata": {}
  },
  {
   "cell_type": "code",
   "execution_count": 8,
   "source": [
    "class Blogpost_dataset(Dataset):\n",
    "    \"\"\"\n",
    "    this class serves as a custom dataset for the given blog posts\n",
    "    \"\"\"\n",
    "\n",
    "    def __init__(self,src_path,transform=None):\n",
    "        \"\"\"\n",
    "        task: inits the dataset and sets optional transforms \\n\n",
    "        parameters: src_path(str(path to the underlying source data)), transform(optional transformation that may be applied to each sample ) \\n\n",
    "        return value:\n",
    "        \"\"\"\n",
    "\n",
    "        self.src_df = pd.read_csv(src_path)\n",
    "        self.transform= transform\n",
    "        self.Dataset_item= namedtuple(\"Dataset_item\",[\"text\",\"label\"]) \n",
    "\n",
    "    def __len__(self):\n",
    "        \"\"\"\n",
    "        task: return the length of the underlying source DataFrame \\n\n",
    "        parameters:\\n\n",
    "        return value:\n",
    "        \"\"\"\n",
    "\n",
    "        return len(self.src_df)\n",
    "\n",
    "    def __getitem__(self, index):\n",
    "        \"\"\"\n",
    "        task: return the item at the given index \\n\n",
    "        parameters:\\n\n",
    "        return value:\n",
    "        \"\"\"\n",
    "\n",
    "        #transform the index to a list in case it is a tensor\n",
    "        if torch.is_tensor(index):\n",
    "            index= index.tolist()\n",
    "\n",
    "        #fetch item from source df\n",
    "        item=self.Dataset_item(self.src_df.iloc[index][\"text\"],self.src_df.iloc[index][\"label\"])\n",
    "\n",
    "        #apply transform if available\n",
    "        if self.transform:\n",
    "            item= self.transform(item)\n",
    "\n",
    "        return item\n"
   ],
   "outputs": [],
   "metadata": {}
  },
  {
   "cell_type": "markdown",
   "source": [
    "## 2.2 BERT compatible Dataset"
   ],
   "metadata": {}
  },
  {
   "cell_type": "markdown",
   "source": [
    "Create a class that will serve as a dataset for the data in BERT compatible, already tokenized form"
   ],
   "metadata": {}
  },
  {
   "cell_type": "code",
   "execution_count": 9,
   "source": [
    "class Bert_compatible_dataset(Dataset):\n",
    "    \"\"\"\n",
    "    this class holds a dataset that was transformed using the BertTransform\n",
    "    \"\"\"\n",
    "\n",
    "    def __init__(self,input_ids_list,attention_mask_list,label_list,text_list=None,transform=None):\n",
    "        \"\"\"\n",
    "        task: create a dataset from the given lists of tokens. if text_list is given that column will hold the original text \\n\n",
    "        parameters:input_ids_list(list(token id)), attention_mask_list(list(attention mask)) ,label_list(list(label)), text_list(list(optional: orignal text))\\n\n",
    "        return value:\n",
    "        \"\"\"\n",
    "\n",
    "        #create a class that will hold one element of data\n",
    "        self.Dataset_item= namedtuple(\"Bert_dataset_item\",[\"input_ids\",\"attention_mask\",\"label\",\"text\"])\n",
    "\n",
    "        #this list will store all data \n",
    "        self.data= []\n",
    "        \n",
    "        if text_list:\n",
    "            #assert that all of those lists are of same length\n",
    "            assert len(input_ids_list)==len(attention_mask_list)==len(label_list)==len(text_list),\"length of lists has to match\"\n",
    "        \n",
    "            #zip the lists together\n",
    "            for input_ids,attention_mask,label,text in zip(input_ids_list,attention_mask_list,label_list,text_list):\n",
    "\n",
    "                #create a namedtuple storing that data and append it to self.data\n",
    "                item= self.Dataset_item(input_ids,attention_mask,label,text)\n",
    "                self.data.append(item)\n",
    "\n",
    "        else:\n",
    "            assert len(input_ids_list)==len(attention_mask_list)==len(label_list),\"length of lists has to match\"\n",
    "\n",
    "            #zip the lists together\n",
    "            for input_ids,attention_mask,label in zip(input_ids_list,attention_mask_list,label_list):\n",
    "\n",
    "                #create a namedtuple storing that data and append it to self.data\n",
    "                item= self.Dataset_item(input_ids,attention_mask,label,0)\n",
    "                self.data.append(item)\n",
    "\n",
    "        self.transform = transform\n",
    "\n",
    "\n",
    "    def __len__(self):\n",
    "        \"\"\"\n",
    "        task: return the length of self.data field \\n\n",
    "        parameters:\\n\n",
    "        return value:\n",
    "        \"\"\"\n",
    "\n",
    "        return len(self.data)\n",
    "\n",
    "    def __getitem__(self, index):\n",
    "        \"\"\"\n",
    "        task: return the item at index \\n\n",
    "        parameters:\\n\n",
    "        return value:\n",
    "        \"\"\"\n",
    "\n",
    "        #transform the index to a list in case it is a tensor\n",
    "        if torch.is_tensor(index):\n",
    "            index= index.tolist()\n",
    "\n",
    "        data=self.data[index]\n",
    "\n",
    "        if self.transform:\n",
    "            data= self.transform(data)\n",
    "\n",
    "        return data\n"
   ],
   "outputs": [],
   "metadata": {}
  },
  {
   "cell_type": "markdown",
   "source": [
    "## 2.3 Transforms"
   ],
   "metadata": {}
  },
  {
   "cell_type": "markdown",
   "source": [
    "Create a Transform that will transform bert compatible data into tensors on the given device"
   ],
   "metadata": {}
  },
  {
   "cell_type": "code",
   "execution_count": 10,
   "source": [
    "class BertToTensor(object):\n",
    "    \"\"\"\n",
    "    This class serves as a transform to transfer the elements of namedtuple into tensors on the given device\n",
    "    \"\"\"\n",
    "\n",
    "    def __init__(self,device=\"cpu\"):\n",
    "        \"\"\"\n",
    "        task:  \\n\n",
    "        parameters:\\n\n",
    "        return value:\n",
    "        \"\"\"\n",
    "\n",
    "        self.device=device\n",
    "\n",
    "    def __call__(self,named_tuple):\n",
    "        \"\"\"\n",
    "        task: transform the elements of the named tuple into tensors and ship them over to self.device \\n\n",
    "        parameters: named_tuple(\"Bert_dataset_item\",[\"input_ids\",\"attention_mask\",\"label\",\"text\"]) \\n\n",
    "        return value: transformed elements\n",
    "        \"\"\"\n",
    "\n",
    "        #unpack the named tuple\n",
    "        input_ids,attention_mask,label,text = named_tuple\n",
    "\n",
    "        #transform to tensor\n",
    "        input_ids= torch.IntTensor(input_ids).to(device=self.device)\n",
    "        attention_mask= torch.IntTensor(attention_mask).to(device=self.device)\n",
    "        label= torch.IntTensor(label).to(device=self.device)\n",
    "        text= torch.IntTensor(text).to(device=self.device)\n",
    "\n",
    "        return input_ids,attention_mask,label,text"
   ],
   "outputs": [],
   "metadata": {}
  },
  {
   "cell_type": "markdown",
   "source": [
    "create a transform that takes the original data as imput and tokenizes it using the BERTTokenizer"
   ],
   "metadata": {}
  },
  {
   "cell_type": "code",
   "execution_count": 11,
   "source": [
    "class BertTransform(object):\n",
    "    \"\"\"\n",
    "    this class will serve as a transform that tokenizes a given text using the bert tokenizer\n",
    "    \"\"\"\n",
    "\n",
    "    def __init__(self,max_length):\n",
    "        \"\"\"\n",
    "        task: init the transform and creates a bert tokenizer\\n\n",
    "        parameters:\\n\n",
    "        return value:\n",
    "        \"\"\"\n",
    "\n",
    "        self.tokenizer= DistilBertTokenizer.from_pretrained('distilbert-base-uncased-finetuned-sst-2-english',do_lower_case=True)\n",
    "        self.max_length= max_length\n",
    "\n",
    "    def __call__(self,item):\n",
    "        \"\"\"\n",
    "        task: when called transform the given items' text field by applying bertTokenization  \\n\n",
    "        parameters:\\n\n",
    "        return value:\n",
    "        \"\"\"\n",
    "\n",
    "        #transform the \n",
    "        transformed_text= self.tokenizer.encode_plus(\n",
    "            item.text,\n",
    "            add_special_tokens=True, #adds beginning(CLS)) and end(SEP) tokens of sequence)\n",
    "            max_length= self.max_length,\n",
    "            pad_to_max_length=True, # makes the tokenizer fill the token vectors with padding tokens if the sequence is smaller than max_length\n",
    "            return_attention_mask = True\n",
    "        )\n",
    "\n",
    "        Dataset_item=namedtuple(\"Dataset_item\",[\"text\",\"label\"]) \n",
    "        return Dataset_item(transformed_text,item.label)"
   ],
   "outputs": [],
   "metadata": {}
  },
  {
   "cell_type": "markdown",
   "source": [
    "a method that creates an original dataset and transforms it into a bert compatibel one"
   ],
   "metadata": {}
  },
  {
   "cell_type": "code",
   "execution_count": 12,
   "source": [
    "def transform_original_dataset_2_bert_compatible(src_path,max_length=512,limit=-1,device=\"cpu\"):\n",
    "    \"\"\"\n",
    "    task: use the BertTokenize transform to tokenize the given original Dataset and thus create a dataset that is bert compatible \\n\n",
    "    parameters: src_path(path to original data), max_length(int(max length allowed for transformer, 512 for bert)),limit(number of entries to use) \\n\n",
    "    return value: torch.utils.data.Dataset\n",
    "    \"\"\"\n",
    "\n",
    "    #create BertTransform\n",
    "    transform=BertTransform(max_length)\n",
    "\n",
    "    #create the original Blogpost_dataset\n",
    "    blogpost_ds=Blogpost_dataset(src_path,transform=transform)\n",
    "\n",
    "    #pull a subset of the dataset if a limit was given\n",
    "    if limit>0:\n",
    "        indices= np.random.choice(range(len(blogpost_ds)),size=limit,replace=False) #choose random indices\n",
    "        blogpost_ds= Subset(blogpost_ds,indices)\n",
    "\n",
    "    #lists that will stored the transformed/tokenized text\n",
    "    input_ids_list = []\n",
    "    attention_mask_list = []\n",
    "    label_list = []\n",
    "\n",
    "    #iterate over the dataset with transform and catch the thus transformed texts by putting them into a new dataset\n",
    "    for transformed_text,label in blogpost_ds:\n",
    "\n",
    "        #apppend the contents to the corresponding list\n",
    "        input_ids_list.append(transformed_text['input_ids'])\n",
    "        attention_mask_list.append(transformed_text['attention_mask'])\n",
    "        label_list.append([label])\n",
    "\n",
    "    #return the Bert_compatible_dataset derived from those lists\n",
    "    return Bert_compatible_dataset(input_ids_list,attention_mask_list,label_list,transform=BertToTensor(device))\n"
   ],
   "outputs": [],
   "metadata": {}
  },
  {
   "cell_type": "markdown",
   "source": [
    "## 2.4 Dataset and Dataloader Creation"
   ],
   "metadata": {}
  },
  {
   "cell_type": "markdown",
   "source": [
    "train dataset/dataloader"
   ],
   "metadata": {}
  },
  {
   "cell_type": "code",
   "execution_count": 13,
   "source": [
    "#create a bert compatible dataset\n",
    "bert_train_ds= transform_original_dataset_2_bert_compatible(notebook_parameters[\"data_parameters\"][\"path_to_train_data\"],limit=notebook_parameters[\"data_parameters\"][\"train_limit\"],device=device)\n",
    "\n",
    "#create a corresponding dataloader\n",
    "bert_train_dl= DataLoader(bert_train_ds,batch_size=notebook_parameters[\"data_parameters\"][\"batchsize\"],shuffle=True)"
   ],
   "outputs": [
    {
     "output_type": "stream",
     "name": "stderr",
     "text": [
      "Truncation was not explicitly activated but `max_length` is provided a specific value, please use `truncation=True` to explicitly truncate examples to max length. Defaulting to 'longest_first' truncation strategy. If you encode pairs of sequences (GLUE-style) with the tokenizer you can select this strategy more precisely by providing a specific strategy to `truncation`.\n",
      "c:\\users\\nick\\code\\machinelearning_projects\\bewerbung_nlp\\venv\\lib\\site-packages\\transformers\\tokenization_utils_base.py:2184: FutureWarning: The `pad_to_max_length` argument is deprecated and will be removed in a future version, use `padding=True` or `padding='longest'` to pad to the longest sequence in the batch, or use `padding='max_length'` to pad to a max length. In this case, you can give a specific length with `max_length` (e.g. `max_length=45`) or leave max_length to None to pad to the maximal input size of the model (e.g. 512 for Bert).\n",
      "  warnings.warn(\n"
     ]
    }
   ],
   "metadata": {}
  },
  {
   "cell_type": "markdown",
   "source": [
    "validation dataset/dataloader"
   ],
   "metadata": {}
  },
  {
   "cell_type": "code",
   "execution_count": 14,
   "source": [
    "#create a bert compatible dataset\n",
    "bert_valid_ds= transform_original_dataset_2_bert_compatible(notebook_parameters[\"data_parameters\"][\"path_to_valid_data\"],limit=notebook_parameters[\"data_parameters\"][\"valid_limit\"],device=device)\n",
    "\n",
    "#create a corresponding dataloader\n",
    "bert_valid_dl= DataLoader(bert_valid_ds,batch_size=notebook_parameters[\"data_parameters\"][\"batchsize\"],shuffle=True)"
   ],
   "outputs": [
    {
     "output_type": "stream",
     "name": "stderr",
     "text": [
      "Truncation was not explicitly activated but `max_length` is provided a specific value, please use `truncation=True` to explicitly truncate examples to max length. Defaulting to 'longest_first' truncation strategy. If you encode pairs of sequences (GLUE-style) with the tokenizer you can select this strategy more precisely by providing a specific strategy to `truncation`.\n"
     ]
    }
   ],
   "metadata": {}
  },
  {
   "cell_type": "markdown",
   "source": [
    "# 3. The Model"
   ],
   "metadata": {}
  },
  {
   "cell_type": "markdown",
   "source": [
    "The model used will be BERT by google"
   ],
   "metadata": {}
  },
  {
   "cell_type": "markdown",
   "source": [
    "# 3.1 Training"
   ],
   "metadata": {}
  },
  {
   "cell_type": "markdown",
   "source": [
    "### 3.1.1 Model and optimizer init"
   ],
   "metadata": {}
  },
  {
   "cell_type": "markdown",
   "source": [
    "use the Bert Config class to configure the Bert model used"
   ],
   "metadata": {}
  },
  {
   "cell_type": "code",
   "execution_count": 15,
   "source": [
    "bert_config= DistilBertConfig(**notebook_parameters[\"model_parameters\"]) "
   ],
   "outputs": [],
   "metadata": {}
  },
  {
   "cell_type": "markdown",
   "source": [
    "initialize optimizer and model"
   ],
   "metadata": {}
  },
  {
   "cell_type": "code",
   "execution_count": 16,
   "source": [
    "#init the model\n",
    "model= DistilBertForSequenceClassification(bert_config).from_pretrained('distilbert-base-uncased-finetuned-sst-2-english').to(device)\n",
    "\n",
    "#init optimizer and learning rate scheduler\n",
    "optimizer= notebook_parameters[\"training_parameters\"][\"optimizer\"](model.parameters(),**notebook_parameters[\"training_parameters\"][\"optimizer_kwargs\"]) \n",
    "lr_scheduler= notebook_parameters[\"training_parameters\"][\"learningrate_scheduler\"](optimizer,**notebook_parameters[\"training_parameters\"][\"learningrate_scheduler_kwargs\"])"
   ],
   "outputs": [],
   "metadata": {}
  },
  {
   "cell_type": "markdown",
   "source": [
    "### 3.1.2 Loss Function"
   ],
   "metadata": {}
  },
  {
   "cell_type": "markdown",
   "source": [
    "Given the binary classification problem, the cross entropy loss function comes in quite handy and will be used for this notebook"
   ],
   "metadata": {}
  },
  {
   "cell_type": "code",
   "execution_count": 17,
   "source": [
    "criterion = notebook_parameters[\"training_parameters\"][\"loss_function\"]\n"
   ],
   "outputs": [],
   "metadata": {}
  },
  {
   "cell_type": "markdown",
   "source": [
    "### 3.1.3 Training loop"
   ],
   "metadata": {}
  },
  {
   "cell_type": "code",
   "execution_count": 18,
   "source": [
    "def train_model(model,train_dataloader,valid_dataloader,loss_function,optimizer,number_of_epochs,learningrate_scheduler=None,update_lr_every_n_batches=-1, validate_every_n_batches=None,calc_ewma=False,**ewma_kwargs):\n",
    "    \"\"\"\n",
    "    task: train the given model and validate it every n epochs on the validation dataset \\n\n",
    "    parameters:model(torch.nn.Module subclass),loss_func(torch.nn loss function), optimizer(torch.optim optimizer), number_of_epochs(int(number of epochs to train)),learningrate_scheduler(instance of torch.optim.lr_scheduler subclass),validate_every_n_batches(int),calc_ewma(bool(true if ewma shall be calculated)),ewma_kwargs(kwargs that will be passed to ewma calculation) \\n\n",
    "    return value:\n",
    "    \"\"\"\n",
    "    \n",
    "    #put model into training mode\n",
    "    model.train()\n",
    "    \n",
    "    batch_number=1\n",
    "    \n",
    "    if calc_ewma:\n",
    "        loss_history=pd.DataFrame(columns=[\"batch_number\",\"train_batch_loss\"])\n",
    "    current_ewma=None\n",
    "    \n",
    "    for epoch_id in range(number_of_epochs):\n",
    "        \n",
    "        for train_batch_id,train_batch in enumerate(train_dataloader,start=1):\n",
    "        \n",
    "            #unpack the batch\n",
    "            input_ids_list,attention_mask_list,label_list,*_=train_batch\n",
    "\n",
    "            #zero gradients\n",
    "            optimizer.zero_grad()\n",
    "\n",
    "            #forward_pass\n",
    "            output=model(input_ids_list,attention_mask_list)\n",
    "\n",
    "            #compute loss\n",
    "            train_batch_loss=criterion(output.logits,label_list.flatten().to(dtype=torch.long))\n",
    "            train_batch_loss.backward()\n",
    "\n",
    "            #optimize\n",
    "            optimizer.step()\n",
    "\n",
    "            #check if validation necessary, if so do it\n",
    "            average_validation_loss=None\n",
    "            if validate_every_n_batches and batch_number%validate_every_n_batches==0:\n",
    "                \n",
    "                #put model into evaluation mode\n",
    "                model.eval()\n",
    "                \n",
    "                validation_losses=[]\n",
    "                with torch.no_grad():\n",
    "                    for valid_batch in valid_dataloader:\n",
    "                        \n",
    "                        #unpack batch\n",
    "                        input_ids_list,attention_mask_list,label_list,*_=valid_batch\n",
    "                        \n",
    "                        #evaluate the inputs with model\n",
    "                        output=model(input_ids_list,attention_mask_list)\n",
    "                        \n",
    "                        #calc validation batch loss\n",
    "                        valid_batch_loss=criterion(output.logits,label_list.flatten().to(dtype=torch.long))\n",
    "                        \n",
    "                        #append the loss to all validation_losses\n",
    "                        validation_losses.append(valid_batch_loss)\n",
    "            \n",
    "                #calculate the average loss\n",
    "                average_validation_loss=sum(validation_losses)/len(validation_losses)\n",
    "            \n",
    "                #reset model to train mode\n",
    "                model.train()\n",
    "            \n",
    "            #calc ewma if desired\n",
    "            if calc_ewma:\n",
    "                loss_history=loss_history.append({\"batch_number\": batch_number,\n",
    "                                                  \"train_batch_loss\": train_batch_loss}\n",
    "                                                  ,ignore_index=True)\n",
    "                current_ewma=loss_history.ewm(**ewma_kwargs).mean().iloc[-1][\"train_batch_loss\"]\n",
    "\n",
    "            #get last lr if available\n",
    "            last_lr= None if not learningrate_scheduler else learningrate_scheduler.get_last_lr()[-1]\n",
    "            \n",
    "            #execute step of lr scheduler if available\n",
    "            if learningrate_scheduler and update_lr_every_n_batches>0 and batch_number%update_lr_every_n_batches==0:\n",
    "                learningrate_scheduler.step()\n",
    "            \n",
    "            #increase batch number\n",
    "            batch_number+=1\n",
    "            \n",
    "            #yield training info about current batch\n",
    "            yield epoch_id,train_batch_id, train_batch_loss,average_validation_loss,current_ewma,last_lr\n",
    "            "
   ],
   "outputs": [],
   "metadata": {}
  },
  {
   "cell_type": "markdown",
   "source": [
    "use that train_model method and create a plot about the generated training info"
   ],
   "metadata": {}
  },
  {
   "cell_type": "code",
   "execution_count": 19,
   "source": [
    "%matplotlib notebook\n",
    "\n",
    "#lists for batch_loss\n",
    "batch_number_list=[None]\n",
    "batch_train_loss_list=[None]\n",
    "\n",
    "#lists for average validation loss\n",
    "batch_number_avg_valid_loss_list=[None]\n",
    "avg_valid_loss_list=[None]\n",
    "\n",
    "#list for ewma\n",
    "ewma_list=[None]\n",
    "\n",
    "#list for lr\n",
    "lr_list=[None]\n",
    "\n",
    "#create figure and seperate plots for batch_loss,average validation_loss, ewma and lr \n",
    "plt.ion()\n",
    "info_fig,axes= plt.subplots(figsize=(10,8))\n",
    "batch_train_plot, = axes.plot(batch_number_list,batch_train_loss_list,\"blue\",label=\"train batch loss\")\n",
    "average_valid_plot, =axes.plot(batch_number_list,avg_valid_loss_list, \"red\",label=\"average validation loss\")\n",
    "ewma_plot, =axes.plot(batch_number_list,ewma_list,\"orange\",label=\"ewma of train batch loss\")\n",
    "\n",
    "#create twin axes to allow second y axis\n",
    "twin_axes= axes.twinx()\n",
    "lr_plot, = twin_axes.plot(batch_number_list,lr_list,\"green\",label=\"learning rate\")\n",
    "\n",
    "#set figure attributes like title,labels and legend\n",
    "plt.title(\"training performance\")\n",
    "axes.set_xlabel(\"batch iteration\")\n",
    "axes.set_ylabel(\"cross entropy batch loss\")\n",
    "twin_axes.set_ylabel(\"learning rate\")\n",
    "\n",
    "#create legend\n",
    "plots= [batch_train_plot,average_valid_plot,ewma_plot,lr_plot]\n",
    "plt.legend(plots,[plot.get_label() for plot in plots])\n",
    "\n",
    "#position text to display training progress\n",
    "plt.gcf().text(0.4,0.02,\"0.00% of training done\",fontsize=14)\n",
    "\n",
    "batch_number=1\n",
    "\n",
    "#execute the training loop and print the training info\n",
    "for epoch_id,train_batch_id,train_batch_loss,average_valid_loss,ewma,last_lr in train_model(model,bert_train_dl,bert_valid_dl,criterion,optimizer,notebook_parameters[\"training_parameters\"][\"number_of_epochs\"],lr_scheduler,update_lr_every_n_batches=notebook_parameters[\"training_parameters\"][\"update_lr_every_n_batches\"] ,validate_every_n_batches=notebook_parameters[\"training_parameters\"][\"validate_every_n_batches\"],calc_ewma=notebook_parameters[\"training_parameters\"][\"calc_ewma\"],halflife=10):\n",
    "    \n",
    "    #print training info\n",
    "    print(f\"[epoch {epoch_id} _ batch {train_batch_id}]: loss= {train_batch_loss}\")\n",
    "\n",
    "    #calculate the percentage of training done and add it as text\n",
    "    percentage_done= round(batch_number/(notebook_parameters[\"training_parameters\"][\"number_of_epochs\"]*len(bert_train_dl))*100,2)\n",
    "    info_fig.texts[0].set_text(f\"{percentage_done:.2f}% of training done\")\n",
    "    \n",
    "    #add the new data to corresponding lists\n",
    "    batch_number_list.append(batch_number)\n",
    "    batch_train_loss_list.append(train_batch_loss)\n",
    "    ewma_list.append(ewma)\n",
    "    lr_list.append(last_lr)\n",
    "    if average_valid_loss:\n",
    "        batch_number_avg_valid_loss_list.append(batch_number)\n",
    "        avg_valid_loss_list.append(average_valid_loss)\n",
    "    \n",
    "    #update plot with current training info\n",
    "    batch_train_plot.set_data(batch_number_list,batch_train_loss_list)\n",
    "    average_valid_plot.set_data(batch_number_avg_valid_loss_list,avg_valid_loss_list)\n",
    "    ewma_plot.set_data(batch_number_list,ewma_list)\n",
    "    lr_plot.set_data(batch_number_list,lr_list)\n",
    "    \n",
    "    #relimit axes to show newly created data and autoscale\n",
    "    axes.relim()\n",
    "    axes.autoscale_view(True,True,True)\n",
    "    twin_axes.relim()\n",
    "    twin_axes.autoscale_view(True,True,True)\n",
    "    \n",
    "    #show updates\n",
    "    info_fig.canvas.draw()\n",
    "    info_fig.canvas.flush_events()\n",
    "    \n",
    "    #increase batch number\n",
    "    batch_number+=1\n",
    "    "
   ],
   "outputs": [
    {
     "output_type": "display_data",
     "data": {
      "text/plain": [
       "<IPython.core.display.Javascript object>"
      ],
      "application/javascript": "/* Put everything inside the global mpl namespace */\n/* global mpl */\nwindow.mpl = {};\n\nmpl.get_websocket_type = function () {\n    if (typeof WebSocket !== 'undefined') {\n        return WebSocket;\n    } else if (typeof MozWebSocket !== 'undefined') {\n        return MozWebSocket;\n    } else {\n        alert(\n            'Your browser does not have WebSocket support. ' +\n                'Please try Chrome, Safari or Firefox ≥ 6. ' +\n                'Firefox 4 and 5 are also supported but you ' +\n                'have to enable WebSockets in about:config.'\n        );\n    }\n};\n\nmpl.figure = function (figure_id, websocket, ondownload, parent_element) {\n    this.id = figure_id;\n\n    this.ws = websocket;\n\n    this.supports_binary = this.ws.binaryType !== undefined;\n\n    if (!this.supports_binary) {\n        var warnings = document.getElementById('mpl-warnings');\n        if (warnings) {\n            warnings.style.display = 'block';\n            warnings.textContent =\n                'This browser does not support binary websocket messages. ' +\n                'Performance may be slow.';\n        }\n    }\n\n    this.imageObj = new Image();\n\n    this.context = undefined;\n    this.message = undefined;\n    this.canvas = undefined;\n    this.rubberband_canvas = undefined;\n    this.rubberband_context = undefined;\n    this.format_dropdown = undefined;\n\n    this.image_mode = 'full';\n\n    this.root = document.createElement('div');\n    this.root.setAttribute('style', 'display: inline-block');\n    this._root_extra_style(this.root);\n\n    parent_element.appendChild(this.root);\n\n    this._init_header(this);\n    this._init_canvas(this);\n    this._init_toolbar(this);\n\n    var fig = this;\n\n    this.waiting = false;\n\n    this.ws.onopen = function () {\n        fig.send_message('supports_binary', { value: fig.supports_binary });\n        fig.send_message('send_image_mode', {});\n        if (fig.ratio !== 1) {\n            fig.send_message('set_dpi_ratio', { dpi_ratio: fig.ratio });\n        }\n        fig.send_message('refresh', {});\n    };\n\n    this.imageObj.onload = function () {\n        if (fig.image_mode === 'full') {\n            // Full images could contain transparency (where diff images\n            // almost always do), so we need to clear the canvas so that\n            // there is no ghosting.\n            fig.context.clearRect(0, 0, fig.canvas.width, fig.canvas.height);\n        }\n        fig.context.drawImage(fig.imageObj, 0, 0);\n    };\n\n    this.imageObj.onunload = function () {\n        fig.ws.close();\n    };\n\n    this.ws.onmessage = this._make_on_message_function(this);\n\n    this.ondownload = ondownload;\n};\n\nmpl.figure.prototype._init_header = function () {\n    var titlebar = document.createElement('div');\n    titlebar.classList =\n        'ui-dialog-titlebar ui-widget-header ui-corner-all ui-helper-clearfix';\n    var titletext = document.createElement('div');\n    titletext.classList = 'ui-dialog-title';\n    titletext.setAttribute(\n        'style',\n        'width: 100%; text-align: center; padding: 3px;'\n    );\n    titlebar.appendChild(titletext);\n    this.root.appendChild(titlebar);\n    this.header = titletext;\n};\n\nmpl.figure.prototype._canvas_extra_style = function (_canvas_div) {};\n\nmpl.figure.prototype._root_extra_style = function (_canvas_div) {};\n\nmpl.figure.prototype._init_canvas = function () {\n    var fig = this;\n\n    var canvas_div = (this.canvas_div = document.createElement('div'));\n    canvas_div.setAttribute(\n        'style',\n        'border: 1px solid #ddd;' +\n            'box-sizing: content-box;' +\n            'clear: both;' +\n            'min-height: 1px;' +\n            'min-width: 1px;' +\n            'outline: 0;' +\n            'overflow: hidden;' +\n            'position: relative;' +\n            'resize: both;'\n    );\n\n    function on_keyboard_event_closure(name) {\n        return function (event) {\n            return fig.key_event(event, name);\n        };\n    }\n\n    canvas_div.addEventListener(\n        'keydown',\n        on_keyboard_event_closure('key_press')\n    );\n    canvas_div.addEventListener(\n        'keyup',\n        on_keyboard_event_closure('key_release')\n    );\n\n    this._canvas_extra_style(canvas_div);\n    this.root.appendChild(canvas_div);\n\n    var canvas = (this.canvas = document.createElement('canvas'));\n    canvas.classList.add('mpl-canvas');\n    canvas.setAttribute('style', 'box-sizing: content-box;');\n\n    this.context = canvas.getContext('2d');\n\n    var backingStore =\n        this.context.backingStorePixelRatio ||\n        this.context.webkitBackingStorePixelRatio ||\n        this.context.mozBackingStorePixelRatio ||\n        this.context.msBackingStorePixelRatio ||\n        this.context.oBackingStorePixelRatio ||\n        this.context.backingStorePixelRatio ||\n        1;\n\n    this.ratio = (window.devicePixelRatio || 1) / backingStore;\n\n    var rubberband_canvas = (this.rubberband_canvas = document.createElement(\n        'canvas'\n    ));\n    rubberband_canvas.setAttribute(\n        'style',\n        'box-sizing: content-box; position: absolute; left: 0; top: 0; z-index: 1;'\n    );\n\n    // Apply a ponyfill if ResizeObserver is not implemented by browser.\n    if (this.ResizeObserver === undefined) {\n        if (window.ResizeObserver !== undefined) {\n            this.ResizeObserver = window.ResizeObserver;\n        } else {\n            var obs = _JSXTOOLS_RESIZE_OBSERVER({});\n            this.ResizeObserver = obs.ResizeObserver;\n        }\n    }\n\n    this.resizeObserverInstance = new this.ResizeObserver(function (entries) {\n        var nentries = entries.length;\n        for (var i = 0; i < nentries; i++) {\n            var entry = entries[i];\n            var width, height;\n            if (entry.contentBoxSize) {\n                if (entry.contentBoxSize instanceof Array) {\n                    // Chrome 84 implements new version of spec.\n                    width = entry.contentBoxSize[0].inlineSize;\n                    height = entry.contentBoxSize[0].blockSize;\n                } else {\n                    // Firefox implements old version of spec.\n                    width = entry.contentBoxSize.inlineSize;\n                    height = entry.contentBoxSize.blockSize;\n                }\n            } else {\n                // Chrome <84 implements even older version of spec.\n                width = entry.contentRect.width;\n                height = entry.contentRect.height;\n            }\n\n            // Keep the size of the canvas and rubber band canvas in sync with\n            // the canvas container.\n            if (entry.devicePixelContentBoxSize) {\n                // Chrome 84 implements new version of spec.\n                canvas.setAttribute(\n                    'width',\n                    entry.devicePixelContentBoxSize[0].inlineSize\n                );\n                canvas.setAttribute(\n                    'height',\n                    entry.devicePixelContentBoxSize[0].blockSize\n                );\n            } else {\n                canvas.setAttribute('width', width * fig.ratio);\n                canvas.setAttribute('height', height * fig.ratio);\n            }\n            canvas.setAttribute(\n                'style',\n                'width: ' + width + 'px; height: ' + height + 'px;'\n            );\n\n            rubberband_canvas.setAttribute('width', width);\n            rubberband_canvas.setAttribute('height', height);\n\n            // And update the size in Python. We ignore the initial 0/0 size\n            // that occurs as the element is placed into the DOM, which should\n            // otherwise not happen due to the minimum size styling.\n            if (fig.ws.readyState == 1 && width != 0 && height != 0) {\n                fig.request_resize(width, height);\n            }\n        }\n    });\n    this.resizeObserverInstance.observe(canvas_div);\n\n    function on_mouse_event_closure(name) {\n        return function (event) {\n            return fig.mouse_event(event, name);\n        };\n    }\n\n    rubberband_canvas.addEventListener(\n        'mousedown',\n        on_mouse_event_closure('button_press')\n    );\n    rubberband_canvas.addEventListener(\n        'mouseup',\n        on_mouse_event_closure('button_release')\n    );\n    rubberband_canvas.addEventListener(\n        'dblclick',\n        on_mouse_event_closure('dblclick')\n    );\n    // Throttle sequential mouse events to 1 every 20ms.\n    rubberband_canvas.addEventListener(\n        'mousemove',\n        on_mouse_event_closure('motion_notify')\n    );\n\n    rubberband_canvas.addEventListener(\n        'mouseenter',\n        on_mouse_event_closure('figure_enter')\n    );\n    rubberband_canvas.addEventListener(\n        'mouseleave',\n        on_mouse_event_closure('figure_leave')\n    );\n\n    canvas_div.addEventListener('wheel', function (event) {\n        if (event.deltaY < 0) {\n            event.step = 1;\n        } else {\n            event.step = -1;\n        }\n        on_mouse_event_closure('scroll')(event);\n    });\n\n    canvas_div.appendChild(canvas);\n    canvas_div.appendChild(rubberband_canvas);\n\n    this.rubberband_context = rubberband_canvas.getContext('2d');\n    this.rubberband_context.strokeStyle = '#000000';\n\n    this._resize_canvas = function (width, height, forward) {\n        if (forward) {\n            canvas_div.style.width = width + 'px';\n            canvas_div.style.height = height + 'px';\n        }\n    };\n\n    // Disable right mouse context menu.\n    this.rubberband_canvas.addEventListener('contextmenu', function (_e) {\n        event.preventDefault();\n        return false;\n    });\n\n    function set_focus() {\n        canvas.focus();\n        canvas_div.focus();\n    }\n\n    window.setTimeout(set_focus, 100);\n};\n\nmpl.figure.prototype._init_toolbar = function () {\n    var fig = this;\n\n    var toolbar = document.createElement('div');\n    toolbar.classList = 'mpl-toolbar';\n    this.root.appendChild(toolbar);\n\n    function on_click_closure(name) {\n        return function (_event) {\n            return fig.toolbar_button_onclick(name);\n        };\n    }\n\n    function on_mouseover_closure(tooltip) {\n        return function (event) {\n            if (!event.currentTarget.disabled) {\n                return fig.toolbar_button_onmouseover(tooltip);\n            }\n        };\n    }\n\n    fig.buttons = {};\n    var buttonGroup = document.createElement('div');\n    buttonGroup.classList = 'mpl-button-group';\n    for (var toolbar_ind in mpl.toolbar_items) {\n        var name = mpl.toolbar_items[toolbar_ind][0];\n        var tooltip = mpl.toolbar_items[toolbar_ind][1];\n        var image = mpl.toolbar_items[toolbar_ind][2];\n        var method_name = mpl.toolbar_items[toolbar_ind][3];\n\n        if (!name) {\n            /* Instead of a spacer, we start a new button group. */\n            if (buttonGroup.hasChildNodes()) {\n                toolbar.appendChild(buttonGroup);\n            }\n            buttonGroup = document.createElement('div');\n            buttonGroup.classList = 'mpl-button-group';\n            continue;\n        }\n\n        var button = (fig.buttons[name] = document.createElement('button'));\n        button.classList = 'mpl-widget';\n        button.setAttribute('role', 'button');\n        button.setAttribute('aria-disabled', 'false');\n        button.addEventListener('click', on_click_closure(method_name));\n        button.addEventListener('mouseover', on_mouseover_closure(tooltip));\n\n        var icon_img = document.createElement('img');\n        icon_img.src = '_images/' + image + '.png';\n        icon_img.srcset = '_images/' + image + '_large.png 2x';\n        icon_img.alt = tooltip;\n        button.appendChild(icon_img);\n\n        buttonGroup.appendChild(button);\n    }\n\n    if (buttonGroup.hasChildNodes()) {\n        toolbar.appendChild(buttonGroup);\n    }\n\n    var fmt_picker = document.createElement('select');\n    fmt_picker.classList = 'mpl-widget';\n    toolbar.appendChild(fmt_picker);\n    this.format_dropdown = fmt_picker;\n\n    for (var ind in mpl.extensions) {\n        var fmt = mpl.extensions[ind];\n        var option = document.createElement('option');\n        option.selected = fmt === mpl.default_extension;\n        option.innerHTML = fmt;\n        fmt_picker.appendChild(option);\n    }\n\n    var status_bar = document.createElement('span');\n    status_bar.classList = 'mpl-message';\n    toolbar.appendChild(status_bar);\n    this.message = status_bar;\n};\n\nmpl.figure.prototype.request_resize = function (x_pixels, y_pixels) {\n    // Request matplotlib to resize the figure. Matplotlib will then trigger a resize in the client,\n    // which will in turn request a refresh of the image.\n    this.send_message('resize', { width: x_pixels, height: y_pixels });\n};\n\nmpl.figure.prototype.send_message = function (type, properties) {\n    properties['type'] = type;\n    properties['figure_id'] = this.id;\n    this.ws.send(JSON.stringify(properties));\n};\n\nmpl.figure.prototype.send_draw_message = function () {\n    if (!this.waiting) {\n        this.waiting = true;\n        this.ws.send(JSON.stringify({ type: 'draw', figure_id: this.id }));\n    }\n};\n\nmpl.figure.prototype.handle_save = function (fig, _msg) {\n    var format_dropdown = fig.format_dropdown;\n    var format = format_dropdown.options[format_dropdown.selectedIndex].value;\n    fig.ondownload(fig, format);\n};\n\nmpl.figure.prototype.handle_resize = function (fig, msg) {\n    var size = msg['size'];\n    if (size[0] !== fig.canvas.width || size[1] !== fig.canvas.height) {\n        fig._resize_canvas(size[0], size[1], msg['forward']);\n        fig.send_message('refresh', {});\n    }\n};\n\nmpl.figure.prototype.handle_rubberband = function (fig, msg) {\n    var x0 = msg['x0'] / fig.ratio;\n    var y0 = (fig.canvas.height - msg['y0']) / fig.ratio;\n    var x1 = msg['x1'] / fig.ratio;\n    var y1 = (fig.canvas.height - msg['y1']) / fig.ratio;\n    x0 = Math.floor(x0) + 0.5;\n    y0 = Math.floor(y0) + 0.5;\n    x1 = Math.floor(x1) + 0.5;\n    y1 = Math.floor(y1) + 0.5;\n    var min_x = Math.min(x0, x1);\n    var min_y = Math.min(y0, y1);\n    var width = Math.abs(x1 - x0);\n    var height = Math.abs(y1 - y0);\n\n    fig.rubberband_context.clearRect(\n        0,\n        0,\n        fig.canvas.width / fig.ratio,\n        fig.canvas.height / fig.ratio\n    );\n\n    fig.rubberband_context.strokeRect(min_x, min_y, width, height);\n};\n\nmpl.figure.prototype.handle_figure_label = function (fig, msg) {\n    // Updates the figure title.\n    fig.header.textContent = msg['label'];\n};\n\nmpl.figure.prototype.handle_cursor = function (fig, msg) {\n    var cursor = msg['cursor'];\n    switch (cursor) {\n        case 0:\n            cursor = 'pointer';\n            break;\n        case 1:\n            cursor = 'default';\n            break;\n        case 2:\n            cursor = 'crosshair';\n            break;\n        case 3:\n            cursor = 'move';\n            break;\n    }\n    fig.rubberband_canvas.style.cursor = cursor;\n};\n\nmpl.figure.prototype.handle_message = function (fig, msg) {\n    fig.message.textContent = msg['message'];\n};\n\nmpl.figure.prototype.handle_draw = function (fig, _msg) {\n    // Request the server to send over a new figure.\n    fig.send_draw_message();\n};\n\nmpl.figure.prototype.handle_image_mode = function (fig, msg) {\n    fig.image_mode = msg['mode'];\n};\n\nmpl.figure.prototype.handle_history_buttons = function (fig, msg) {\n    for (var key in msg) {\n        if (!(key in fig.buttons)) {\n            continue;\n        }\n        fig.buttons[key].disabled = !msg[key];\n        fig.buttons[key].setAttribute('aria-disabled', !msg[key]);\n    }\n};\n\nmpl.figure.prototype.handle_navigate_mode = function (fig, msg) {\n    if (msg['mode'] === 'PAN') {\n        fig.buttons['Pan'].classList.add('active');\n        fig.buttons['Zoom'].classList.remove('active');\n    } else if (msg['mode'] === 'ZOOM') {\n        fig.buttons['Pan'].classList.remove('active');\n        fig.buttons['Zoom'].classList.add('active');\n    } else {\n        fig.buttons['Pan'].classList.remove('active');\n        fig.buttons['Zoom'].classList.remove('active');\n    }\n};\n\nmpl.figure.prototype.updated_canvas_event = function () {\n    // Called whenever the canvas gets updated.\n    this.send_message('ack', {});\n};\n\n// A function to construct a web socket function for onmessage handling.\n// Called in the figure constructor.\nmpl.figure.prototype._make_on_message_function = function (fig) {\n    return function socket_on_message(evt) {\n        if (evt.data instanceof Blob) {\n            var img = evt.data;\n            if (img.type !== 'image/png') {\n                /* FIXME: We get \"Resource interpreted as Image but\n                 * transferred with MIME type text/plain:\" errors on\n                 * Chrome.  But how to set the MIME type?  It doesn't seem\n                 * to be part of the websocket stream */\n                img.type = 'image/png';\n            }\n\n            /* Free the memory for the previous frames */\n            if (fig.imageObj.src) {\n                (window.URL || window.webkitURL).revokeObjectURL(\n                    fig.imageObj.src\n                );\n            }\n\n            fig.imageObj.src = (window.URL || window.webkitURL).createObjectURL(\n                img\n            );\n            fig.updated_canvas_event();\n            fig.waiting = false;\n            return;\n        } else if (\n            typeof evt.data === 'string' &&\n            evt.data.slice(0, 21) === 'data:image/png;base64'\n        ) {\n            fig.imageObj.src = evt.data;\n            fig.updated_canvas_event();\n            fig.waiting = false;\n            return;\n        }\n\n        var msg = JSON.parse(evt.data);\n        var msg_type = msg['type'];\n\n        // Call the  \"handle_{type}\" callback, which takes\n        // the figure and JSON message as its only arguments.\n        try {\n            var callback = fig['handle_' + msg_type];\n        } catch (e) {\n            console.log(\n                \"No handler for the '\" + msg_type + \"' message type: \",\n                msg\n            );\n            return;\n        }\n\n        if (callback) {\n            try {\n                // console.log(\"Handling '\" + msg_type + \"' message: \", msg);\n                callback(fig, msg);\n            } catch (e) {\n                console.log(\n                    \"Exception inside the 'handler_\" + msg_type + \"' callback:\",\n                    e,\n                    e.stack,\n                    msg\n                );\n            }\n        }\n    };\n};\n\n// from http://stackoverflow.com/questions/1114465/getting-mouse-location-in-canvas\nmpl.findpos = function (e) {\n    //this section is from http://www.quirksmode.org/js/events_properties.html\n    var targ;\n    if (!e) {\n        e = window.event;\n    }\n    if (e.target) {\n        targ = e.target;\n    } else if (e.srcElement) {\n        targ = e.srcElement;\n    }\n    if (targ.nodeType === 3) {\n        // defeat Safari bug\n        targ = targ.parentNode;\n    }\n\n    // pageX,Y are the mouse positions relative to the document\n    var boundingRect = targ.getBoundingClientRect();\n    var x = e.pageX - (boundingRect.left + document.body.scrollLeft);\n    var y = e.pageY - (boundingRect.top + document.body.scrollTop);\n\n    return { x: x, y: y };\n};\n\n/*\n * return a copy of an object with only non-object keys\n * we need this to avoid circular references\n * http://stackoverflow.com/a/24161582/3208463\n */\nfunction simpleKeys(original) {\n    return Object.keys(original).reduce(function (obj, key) {\n        if (typeof original[key] !== 'object') {\n            obj[key] = original[key];\n        }\n        return obj;\n    }, {});\n}\n\nmpl.figure.prototype.mouse_event = function (event, name) {\n    var canvas_pos = mpl.findpos(event);\n\n    if (name === 'button_press') {\n        this.canvas.focus();\n        this.canvas_div.focus();\n    }\n\n    var x = canvas_pos.x * this.ratio;\n    var y = canvas_pos.y * this.ratio;\n\n    this.send_message(name, {\n        x: x,\n        y: y,\n        button: event.button,\n        step: event.step,\n        guiEvent: simpleKeys(event),\n    });\n\n    /* This prevents the web browser from automatically changing to\n     * the text insertion cursor when the button is pressed.  We want\n     * to control all of the cursor setting manually through the\n     * 'cursor' event from matplotlib */\n    event.preventDefault();\n    return false;\n};\n\nmpl.figure.prototype._key_event_extra = function (_event, _name) {\n    // Handle any extra behaviour associated with a key event\n};\n\nmpl.figure.prototype.key_event = function (event, name) {\n    // Prevent repeat events\n    if (name === 'key_press') {\n        if (event.key === this._key) {\n            return;\n        } else {\n            this._key = event.key;\n        }\n    }\n    if (name === 'key_release') {\n        this._key = null;\n    }\n\n    var value = '';\n    if (event.ctrlKey && event.key !== 'Control') {\n        value += 'ctrl+';\n    }\n    else if (event.altKey && event.key !== 'Alt') {\n        value += 'alt+';\n    }\n    else if (event.shiftKey && event.key !== 'Shift') {\n        value += 'shift+';\n    }\n\n    value += 'k' + event.key;\n\n    this._key_event_extra(event, name);\n\n    this.send_message(name, { key: value, guiEvent: simpleKeys(event) });\n    return false;\n};\n\nmpl.figure.prototype.toolbar_button_onclick = function (name) {\n    if (name === 'download') {\n        this.handle_save(this, null);\n    } else {\n        this.send_message('toolbar_button', { name: name });\n    }\n};\n\nmpl.figure.prototype.toolbar_button_onmouseover = function (tooltip) {\n    this.message.textContent = tooltip;\n};\n\n///////////////// REMAINING CONTENT GENERATED BY embed_js.py /////////////////\n// prettier-ignore\nvar _JSXTOOLS_RESIZE_OBSERVER=function(A){var t,i=new WeakMap,n=new WeakMap,a=new WeakMap,r=new WeakMap,o=new Set;function s(e){if(!(this instanceof s))throw new TypeError(\"Constructor requires 'new' operator\");i.set(this,e)}function h(){throw new TypeError(\"Function is not a constructor\")}function c(e,t,i,n){e=0 in arguments?Number(arguments[0]):0,t=1 in arguments?Number(arguments[1]):0,i=2 in arguments?Number(arguments[2]):0,n=3 in arguments?Number(arguments[3]):0,this.right=(this.x=this.left=e)+(this.width=i),this.bottom=(this.y=this.top=t)+(this.height=n),Object.freeze(this)}function d(){t=requestAnimationFrame(d);var s=new WeakMap,p=new Set;o.forEach((function(t){r.get(t).forEach((function(i){var r=t instanceof window.SVGElement,o=a.get(t),d=r?0:parseFloat(o.paddingTop),f=r?0:parseFloat(o.paddingRight),l=r?0:parseFloat(o.paddingBottom),u=r?0:parseFloat(o.paddingLeft),g=r?0:parseFloat(o.borderTopWidth),m=r?0:parseFloat(o.borderRightWidth),w=r?0:parseFloat(o.borderBottomWidth),b=u+f,F=d+l,v=(r?0:parseFloat(o.borderLeftWidth))+m,W=g+w,y=r?0:t.offsetHeight-W-t.clientHeight,E=r?0:t.offsetWidth-v-t.clientWidth,R=b+v,z=F+W,M=r?t.width:parseFloat(o.width)-R-E,O=r?t.height:parseFloat(o.height)-z-y;if(n.has(t)){var k=n.get(t);if(k[0]===M&&k[1]===O)return}n.set(t,[M,O]);var S=Object.create(h.prototype);S.target=t,S.contentRect=new c(u,d,M,O),s.has(i)||(s.set(i,[]),p.add(i)),s.get(i).push(S)}))})),p.forEach((function(e){i.get(e).call(e,s.get(e),e)}))}return s.prototype.observe=function(i){if(i instanceof window.Element){r.has(i)||(r.set(i,new Set),o.add(i),a.set(i,window.getComputedStyle(i)));var n=r.get(i);n.has(this)||n.add(this),cancelAnimationFrame(t),t=requestAnimationFrame(d)}},s.prototype.unobserve=function(i){if(i instanceof window.Element&&r.has(i)){var n=r.get(i);n.has(this)&&(n.delete(this),n.size||(r.delete(i),o.delete(i))),n.size||r.delete(i),o.size||cancelAnimationFrame(t)}},A.DOMRectReadOnly=c,A.ResizeObserver=s,A.ResizeObserverEntry=h,A}; // eslint-disable-line\nmpl.toolbar_items = [[\"Home\", \"Reset original view\", \"fa fa-home icon-home\", \"home\"], [\"Back\", \"Back to previous view\", \"fa fa-arrow-left icon-arrow-left\", \"back\"], [\"Forward\", \"Forward to next view\", \"fa fa-arrow-right icon-arrow-right\", \"forward\"], [\"\", \"\", \"\", \"\"], [\"Pan\", \"Left button pans, Right button zooms\\nx/y fixes axis, CTRL fixes aspect\", \"fa fa-arrows icon-move\", \"pan\"], [\"Zoom\", \"Zoom to rectangle\\nx/y fixes axis, CTRL fixes aspect\", \"fa fa-square-o icon-check-empty\", \"zoom\"], [\"\", \"\", \"\", \"\"], [\"Download\", \"Download plot\", \"fa fa-floppy-o icon-save\", \"download\"]];\n\nmpl.extensions = [\"eps\", \"jpeg\", \"pgf\", \"pdf\", \"png\", \"ps\", \"raw\", \"svg\", \"tif\"];\n\nmpl.default_extension = \"png\";/* global mpl */\n\nvar comm_websocket_adapter = function (comm) {\n    // Create a \"websocket\"-like object which calls the given IPython comm\n    // object with the appropriate methods. Currently this is a non binary\n    // socket, so there is still some room for performance tuning.\n    var ws = {};\n\n    ws.binaryType = comm.kernel.ws.binaryType;\n    ws.readyState = comm.kernel.ws.readyState;\n    function updateReadyState(_event) {\n        if (comm.kernel.ws) {\n            ws.readyState = comm.kernel.ws.readyState;\n        } else {\n            ws.readyState = 3; // Closed state.\n        }\n    }\n    comm.kernel.ws.addEventListener('open', updateReadyState);\n    comm.kernel.ws.addEventListener('close', updateReadyState);\n    comm.kernel.ws.addEventListener('error', updateReadyState);\n\n    ws.close = function () {\n        comm.close();\n    };\n    ws.send = function (m) {\n        //console.log('sending', m);\n        comm.send(m);\n    };\n    // Register the callback with on_msg.\n    comm.on_msg(function (msg) {\n        //console.log('receiving', msg['content']['data'], msg);\n        var data = msg['content']['data'];\n        if (data['blob'] !== undefined) {\n            data = {\n                data: new Blob(msg['buffers'], { type: data['blob'] }),\n            };\n        }\n        // Pass the mpl event to the overridden (by mpl) onmessage function.\n        ws.onmessage(data);\n    });\n    return ws;\n};\n\nmpl.mpl_figure_comm = function (comm, msg) {\n    // This is the function which gets called when the mpl process\n    // starts-up an IPython Comm through the \"matplotlib\" channel.\n\n    var id = msg.content.data.id;\n    // Get hold of the div created by the display call when the Comm\n    // socket was opened in Python.\n    var element = document.getElementById(id);\n    var ws_proxy = comm_websocket_adapter(comm);\n\n    function ondownload(figure, _format) {\n        window.open(figure.canvas.toDataURL());\n    }\n\n    var fig = new mpl.figure(id, ws_proxy, ondownload, element);\n\n    // Call onopen now - mpl needs it, as it is assuming we've passed it a real\n    // web socket which is closed, not our websocket->open comm proxy.\n    ws_proxy.onopen();\n\n    fig.parent_element = element;\n    fig.cell_info = mpl.find_output_cell(\"<div id='\" + id + \"'></div>\");\n    if (!fig.cell_info) {\n        console.error('Failed to find cell for figure', id, fig);\n        return;\n    }\n    fig.cell_info[0].output_area.element.on(\n        'cleared',\n        { fig: fig },\n        fig._remove_fig_handler\n    );\n};\n\nmpl.figure.prototype.handle_close = function (fig, msg) {\n    var width = fig.canvas.width / fig.ratio;\n    fig.cell_info[0].output_area.element.off(\n        'cleared',\n        fig._remove_fig_handler\n    );\n    fig.resizeObserverInstance.unobserve(fig.canvas_div);\n\n    // Update the output cell to use the data from the current canvas.\n    fig.push_to_output();\n    var dataURL = fig.canvas.toDataURL();\n    // Re-enable the keyboard manager in IPython - without this line, in FF,\n    // the notebook keyboard shortcuts fail.\n    IPython.keyboard_manager.enable();\n    fig.parent_element.innerHTML =\n        '<img src=\"' + dataURL + '\" width=\"' + width + '\">';\n    fig.close_ws(fig, msg);\n};\n\nmpl.figure.prototype.close_ws = function (fig, msg) {\n    fig.send_message('closing', msg);\n    // fig.ws.close()\n};\n\nmpl.figure.prototype.push_to_output = function (_remove_interactive) {\n    // Turn the data on the canvas into data in the output cell.\n    var width = this.canvas.width / this.ratio;\n    var dataURL = this.canvas.toDataURL();\n    this.cell_info[1]['text/html'] =\n        '<img src=\"' + dataURL + '\" width=\"' + width + '\">';\n};\n\nmpl.figure.prototype.updated_canvas_event = function () {\n    // Tell IPython that the notebook contents must change.\n    IPython.notebook.set_dirty(true);\n    this.send_message('ack', {});\n    var fig = this;\n    // Wait a second, then push the new image to the DOM so\n    // that it is saved nicely (might be nice to debounce this).\n    setTimeout(function () {\n        fig.push_to_output();\n    }, 1000);\n};\n\nmpl.figure.prototype._init_toolbar = function () {\n    var fig = this;\n\n    var toolbar = document.createElement('div');\n    toolbar.classList = 'btn-toolbar';\n    this.root.appendChild(toolbar);\n\n    function on_click_closure(name) {\n        return function (_event) {\n            return fig.toolbar_button_onclick(name);\n        };\n    }\n\n    function on_mouseover_closure(tooltip) {\n        return function (event) {\n            if (!event.currentTarget.disabled) {\n                return fig.toolbar_button_onmouseover(tooltip);\n            }\n        };\n    }\n\n    fig.buttons = {};\n    var buttonGroup = document.createElement('div');\n    buttonGroup.classList = 'btn-group';\n    var button;\n    for (var toolbar_ind in mpl.toolbar_items) {\n        var name = mpl.toolbar_items[toolbar_ind][0];\n        var tooltip = mpl.toolbar_items[toolbar_ind][1];\n        var image = mpl.toolbar_items[toolbar_ind][2];\n        var method_name = mpl.toolbar_items[toolbar_ind][3];\n\n        if (!name) {\n            /* Instead of a spacer, we start a new button group. */\n            if (buttonGroup.hasChildNodes()) {\n                toolbar.appendChild(buttonGroup);\n            }\n            buttonGroup = document.createElement('div');\n            buttonGroup.classList = 'btn-group';\n            continue;\n        }\n\n        button = fig.buttons[name] = document.createElement('button');\n        button.classList = 'btn btn-default';\n        button.href = '#';\n        button.title = name;\n        button.innerHTML = '<i class=\"fa ' + image + ' fa-lg\"></i>';\n        button.addEventListener('click', on_click_closure(method_name));\n        button.addEventListener('mouseover', on_mouseover_closure(tooltip));\n        buttonGroup.appendChild(button);\n    }\n\n    if (buttonGroup.hasChildNodes()) {\n        toolbar.appendChild(buttonGroup);\n    }\n\n    // Add the status bar.\n    var status_bar = document.createElement('span');\n    status_bar.classList = 'mpl-message pull-right';\n    toolbar.appendChild(status_bar);\n    this.message = status_bar;\n\n    // Add the close button to the window.\n    var buttongrp = document.createElement('div');\n    buttongrp.classList = 'btn-group inline pull-right';\n    button = document.createElement('button');\n    button.classList = 'btn btn-mini btn-primary';\n    button.href = '#';\n    button.title = 'Stop Interaction';\n    button.innerHTML = '<i class=\"fa fa-power-off icon-remove icon-large\"></i>';\n    button.addEventListener('click', function (_evt) {\n        fig.handle_close(fig, {});\n    });\n    button.addEventListener(\n        'mouseover',\n        on_mouseover_closure('Stop Interaction')\n    );\n    buttongrp.appendChild(button);\n    var titlebar = this.root.querySelector('.ui-dialog-titlebar');\n    titlebar.insertBefore(buttongrp, titlebar.firstChild);\n};\n\nmpl.figure.prototype._remove_fig_handler = function (event) {\n    var fig = event.data.fig;\n    if (event.target !== this) {\n        // Ignore bubbled events from children.\n        return;\n    }\n    fig.close_ws(fig, {});\n};\n\nmpl.figure.prototype._root_extra_style = function (el) {\n    el.style.boxSizing = 'content-box'; // override notebook setting of border-box.\n};\n\nmpl.figure.prototype._canvas_extra_style = function (el) {\n    // this is important to make the div 'focusable\n    el.setAttribute('tabindex', 0);\n    // reach out to IPython and tell the keyboard manager to turn it's self\n    // off when our div gets focus\n\n    // location in version 3\n    if (IPython.notebook.keyboard_manager) {\n        IPython.notebook.keyboard_manager.register_events(el);\n    } else {\n        // location in version 2\n        IPython.keyboard_manager.register_events(el);\n    }\n};\n\nmpl.figure.prototype._key_event_extra = function (event, _name) {\n    var manager = IPython.notebook.keyboard_manager;\n    if (!manager) {\n        manager = IPython.keyboard_manager;\n    }\n\n    // Check for shift+enter\n    if (event.shiftKey && event.which === 13) {\n        this.canvas_div.blur();\n        // select the cell after this one\n        var index = IPython.notebook.find_cell_index(this.cell_info[0]);\n        IPython.notebook.select(index + 1);\n    }\n};\n\nmpl.figure.prototype.handle_save = function (fig, _msg) {\n    fig.ondownload(fig, null);\n};\n\nmpl.find_output_cell = function (html_output) {\n    // Return the cell and output element which can be found *uniquely* in the notebook.\n    // Note - this is a bit hacky, but it is done because the \"notebook_saving.Notebook\"\n    // IPython event is triggered only after the cells have been serialised, which for\n    // our purposes (turning an active figure into a static one), is too late.\n    var cells = IPython.notebook.get_cells();\n    var ncells = cells.length;\n    for (var i = 0; i < ncells; i++) {\n        var cell = cells[i];\n        if (cell.cell_type === 'code') {\n            for (var j = 0; j < cell.output_area.outputs.length; j++) {\n                var data = cell.output_area.outputs[j];\n                if (data.data) {\n                    // IPython >= 3 moved mimebundle to data attribute of output\n                    data = data.data;\n                }\n                if (data['text/html'] === html_output) {\n                    return [cell, data, j];\n                }\n            }\n        }\n    }\n};\n\n// Register the function which deals with the matplotlib target/channel.\n// The kernel may be null if the page has been refreshed.\nif (IPython.notebook.kernel !== null) {\n    IPython.notebook.kernel.comm_manager.register_target(\n        'matplotlib',\n        mpl.mpl_figure_comm\n    );\n}\n"
     },
     "metadata": {}
    },
    {
     "output_type": "display_data",
     "data": {
      "text/plain": [
       "<IPython.core.display.HTML object>"
      ],
      "text/html": [
       "<img src=\"data:image/png;base64,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\" width=\"1000\">"
      ]
     },
     "metadata": {}
    },
    {
     "output_type": "stream",
     "name": "stdout",
     "text": [
      "[epoch 0 _ batch 1]: loss= 2.3886077404022217\n",
      "[epoch 0 _ batch 2]: loss= 3.2604751586914062\n",
      "[epoch 0 _ batch 3]: loss= 1.6056331396102905\n",
      "[epoch 0 _ batch 4]: loss= 0.9798380136489868\n",
      "[epoch 0 _ batch 5]: loss= 1.5635554790496826\n",
      "[epoch 0 _ batch 6]: loss= 0.32186025381088257\n",
      "[epoch 0 _ batch 7]: loss= 1.3725643157958984\n",
      "[epoch 0 _ batch 8]: loss= 0.6048083305358887\n",
      "[epoch 0 _ batch 9]: loss= 0.7417484521865845\n",
      "[epoch 0 _ batch 10]: loss= 0.7430645227432251\n",
      "[epoch 0 _ batch 11]: loss= 0.6461424231529236\n",
      "[epoch 0 _ batch 12]: loss= 0.7348952293395996\n",
      "[epoch 0 _ batch 13]: loss= 0.7160212993621826\n",
      "[epoch 0 _ batch 14]: loss= 0.707952618598938\n",
      "[epoch 0 _ batch 15]: loss= 0.7666341066360474\n",
      "[epoch 0 _ batch 16]: loss= 0.6002776622772217\n",
      "[epoch 0 _ batch 17]: loss= 0.7238658666610718\n",
      "[epoch 0 _ batch 18]: loss= 0.753793478012085\n",
      "[epoch 0 _ batch 19]: loss= 0.7943185567855835\n",
      "[epoch 0 _ batch 20]: loss= 0.7386423945426941\n",
      "[epoch 0 _ batch 21]: loss= 0.7136551737785339\n",
      "[epoch 0 _ batch 22]: loss= 0.7113757729530334\n",
      "[epoch 0 _ batch 23]: loss= 0.6501368284225464\n",
      "[epoch 0 _ batch 24]: loss= 0.6962040662765503\n",
      "[epoch 0 _ batch 25]: loss= 0.6982744932174683\n",
      "[epoch 0 _ batch 26]: loss= 0.7023806571960449\n",
      "[epoch 0 _ batch 27]: loss= 0.6982954740524292\n",
      "[epoch 0 _ batch 28]: loss= 0.6821451187133789\n",
      "[epoch 0 _ batch 29]: loss= 0.6998036503791809\n",
      "[epoch 0 _ batch 30]: loss= 0.7085747718811035\n",
      "[epoch 0 _ batch 31]: loss= 0.6735798716545105\n",
      "[epoch 0 _ batch 32]: loss= 0.7229636311531067\n",
      "[epoch 0 _ batch 33]: loss= 0.701505184173584\n",
      "[epoch 0 _ batch 34]: loss= 0.6733255982398987\n",
      "[epoch 0 _ batch 35]: loss= 0.6758315563201904\n",
      "[epoch 0 _ batch 36]: loss= 0.6673135161399841\n",
      "[epoch 0 _ batch 37]: loss= 0.7295195460319519\n",
      "[epoch 0 _ batch 38]: loss= 0.6981126070022583\n",
      "[epoch 0 _ batch 39]: loss= 0.7390232086181641\n",
      "[epoch 0 _ batch 40]: loss= 0.6960055232048035\n",
      "[epoch 0 _ batch 41]: loss= 0.7126907706260681\n",
      "[epoch 0 _ batch 42]: loss= 0.6833955645561218\n",
      "[epoch 0 _ batch 43]: loss= 0.6996983885765076\n",
      "[epoch 0 _ batch 44]: loss= 0.7075541019439697\n",
      "[epoch 0 _ batch 45]: loss= 0.6583753228187561\n",
      "[epoch 0 _ batch 46]: loss= 0.6546640396118164\n",
      "[epoch 0 _ batch 47]: loss= 0.703614354133606\n",
      "[epoch 0 _ batch 48]: loss= 0.6894986629486084\n",
      "[epoch 0 _ batch 49]: loss= 0.7494739890098572\n",
      "[epoch 0 _ batch 50]: loss= 0.6771613955497742\n",
      "[epoch 0 _ batch 51]: loss= 0.6748135089874268\n",
      "[epoch 0 _ batch 52]: loss= 0.7087588906288147\n",
      "[epoch 0 _ batch 53]: loss= 0.6833488941192627\n",
      "[epoch 0 _ batch 54]: loss= 0.693367600440979\n",
      "[epoch 0 _ batch 55]: loss= 0.6859442591667175\n",
      "[epoch 0 _ batch 56]: loss= 0.6755871772766113\n",
      "[epoch 0 _ batch 57]: loss= 0.703673243522644\n",
      "[epoch 0 _ batch 58]: loss= 0.7319663166999817\n",
      "[epoch 0 _ batch 59]: loss= 0.6829833388328552\n",
      "[epoch 0 _ batch 60]: loss= 0.6821435689926147\n",
      "[epoch 0 _ batch 61]: loss= 0.7201992273330688\n",
      "[epoch 0 _ batch 62]: loss= 0.7046156525611877\n",
      "[epoch 0 _ batch 63]: loss= 0.694322943687439\n",
      "[epoch 0 _ batch 64]: loss= 0.6845835447311401\n",
      "[epoch 0 _ batch 65]: loss= 0.688827633857727\n",
      "[epoch 0 _ batch 66]: loss= 0.6966520547866821\n",
      "[epoch 0 _ batch 67]: loss= 0.665283739566803\n",
      "[epoch 0 _ batch 68]: loss= 0.6989340782165527\n",
      "[epoch 0 _ batch 69]: loss= 0.7015978693962097\n",
      "[epoch 0 _ batch 70]: loss= 0.7052367329597473\n",
      "[epoch 0 _ batch 71]: loss= 0.6827064156532288\n",
      "[epoch 0 _ batch 72]: loss= 0.6907812356948853\n",
      "[epoch 0 _ batch 73]: loss= 0.7018805146217346\n",
      "[epoch 0 _ batch 74]: loss= 0.6527877449989319\n",
      "[epoch 0 _ batch 75]: loss= 0.682092010974884\n",
      "[epoch 0 _ batch 76]: loss= 0.7201424837112427\n",
      "[epoch 0 _ batch 77]: loss= 0.6890270709991455\n",
      "[epoch 0 _ batch 78]: loss= 0.6995271444320679\n",
      "[epoch 0 _ batch 79]: loss= 0.6805601716041565\n",
      "[epoch 0 _ batch 80]: loss= 0.7347740530967712\n",
      "[epoch 0 _ batch 81]: loss= 0.7065910696983337\n",
      "[epoch 0 _ batch 82]: loss= 0.7346142530441284\n",
      "[epoch 0 _ batch 83]: loss= 0.6893777847290039\n",
      "[epoch 0 _ batch 84]: loss= 0.6254370808601379\n",
      "[epoch 0 _ batch 85]: loss= 0.7129324078559875\n",
      "[epoch 0 _ batch 86]: loss= 0.675196647644043\n",
      "[epoch 0 _ batch 87]: loss= 0.64080411195755\n",
      "[epoch 0 _ batch 88]: loss= 0.6751430034637451\n",
      "[epoch 0 _ batch 89]: loss= 0.6958188414573669\n",
      "[epoch 0 _ batch 90]: loss= 0.7451689839363098\n",
      "[epoch 0 _ batch 91]: loss= 0.6799381971359253\n",
      "[epoch 0 _ batch 92]: loss= 0.7592551112174988\n",
      "[epoch 0 _ batch 93]: loss= 0.6856787204742432\n",
      "[epoch 0 _ batch 94]: loss= 0.6788046956062317\n",
      "[epoch 0 _ batch 95]: loss= 0.7114142179489136\n",
      "[epoch 0 _ batch 96]: loss= 0.6602932214736938\n",
      "[epoch 0 _ batch 97]: loss= 0.6790462732315063\n",
      "[epoch 0 _ batch 98]: loss= 0.686519205570221\n",
      "[epoch 0 _ batch 99]: loss= 0.6675533652305603\n",
      "[epoch 0 _ batch 100]: loss= 0.6771066784858704\n",
      "[epoch 0 _ batch 101]: loss= 0.7729629874229431\n",
      "[epoch 0 _ batch 102]: loss= 0.6976193189620972\n",
      "[epoch 0 _ batch 103]: loss= 0.6743539571762085\n",
      "[epoch 0 _ batch 104]: loss= 0.7054988145828247\n",
      "[epoch 0 _ batch 105]: loss= 0.684013307094574\n",
      "[epoch 0 _ batch 106]: loss= 0.7170634865760803\n",
      "[epoch 0 _ batch 107]: loss= 0.726682722568512\n",
      "[epoch 0 _ batch 108]: loss= 0.6862610578536987\n",
      "[epoch 0 _ batch 109]: loss= 0.6771700978279114\n",
      "[epoch 0 _ batch 110]: loss= 0.6959179639816284\n",
      "[epoch 0 _ batch 111]: loss= 0.6825767755508423\n",
      "[epoch 0 _ batch 112]: loss= 0.7111968398094177\n",
      "[epoch 0 _ batch 113]: loss= 0.6875194907188416\n",
      "[epoch 0 _ batch 114]: loss= 0.6736534833908081\n",
      "[epoch 0 _ batch 115]: loss= 0.7033382654190063\n",
      "[epoch 0 _ batch 116]: loss= 0.6890894174575806\n",
      "[epoch 0 _ batch 117]: loss= 0.7305889129638672\n",
      "[epoch 0 _ batch 118]: loss= 0.7143837213516235\n",
      "[epoch 0 _ batch 119]: loss= 0.6829944849014282\n",
      "[epoch 0 _ batch 120]: loss= 0.6970471143722534\n",
      "[epoch 0 _ batch 121]: loss= 0.6947201490402222\n",
      "[epoch 0 _ batch 122]: loss= 0.6890162229537964\n",
      "[epoch 0 _ batch 123]: loss= 0.6758000254631042\n",
      "[epoch 0 _ batch 124]: loss= 0.6807360649108887\n",
      "[epoch 0 _ batch 125]: loss= 0.6947816610336304\n",
      "[epoch 0 _ batch 126]: loss= 0.6870110034942627\n",
      "[epoch 0 _ batch 127]: loss= 0.6927868723869324\n",
      "[epoch 0 _ batch 128]: loss= 0.6853629946708679\n",
      "[epoch 0 _ batch 129]: loss= 0.6721231341362\n",
      "[epoch 0 _ batch 130]: loss= 0.6742891669273376\n",
      "[epoch 0 _ batch 131]: loss= 0.6690666079521179\n",
      "[epoch 0 _ batch 132]: loss= 0.7148575782775879\n",
      "[epoch 0 _ batch 133]: loss= 0.709388017654419\n",
      "[epoch 0 _ batch 134]: loss= 0.6942539215087891\n",
      "[epoch 0 _ batch 135]: loss= 0.6938364505767822\n",
      "[epoch 0 _ batch 136]: loss= 0.7062155604362488\n",
      "[epoch 0 _ batch 137]: loss= 0.6984565854072571\n",
      "[epoch 0 _ batch 138]: loss= 0.7394798994064331\n",
      "[epoch 0 _ batch 139]: loss= 0.6754133105278015\n",
      "[epoch 0 _ batch 140]: loss= 0.6863517761230469\n",
      "[epoch 0 _ batch 141]: loss= 0.6651593446731567\n",
      "[epoch 0 _ batch 142]: loss= 0.6973682641983032\n",
      "[epoch 0 _ batch 143]: loss= 0.6668872833251953\n",
      "[epoch 0 _ batch 144]: loss= 0.6748721599578857\n",
      "[epoch 0 _ batch 145]: loss= 0.6961662173271179\n",
      "[epoch 0 _ batch 146]: loss= 0.6743509769439697\n",
      "[epoch 0 _ batch 147]: loss= 0.7498706579208374\n",
      "[epoch 0 _ batch 148]: loss= 0.7257040143013\n",
      "[epoch 0 _ batch 149]: loss= 0.6994033455848694\n",
      "[epoch 0 _ batch 150]: loss= 0.6872782707214355\n",
      "[epoch 0 _ batch 151]: loss= 0.6972702741622925\n",
      "[epoch 0 _ batch 152]: loss= 0.6965675950050354\n",
      "[epoch 0 _ batch 153]: loss= 0.6854748725891113\n",
      "[epoch 0 _ batch 154]: loss= 0.685749888420105\n",
      "[epoch 0 _ batch 155]: loss= 0.6968684196472168\n",
      "[epoch 0 _ batch 156]: loss= 0.669945478439331\n",
      "[epoch 0 _ batch 157]: loss= 0.6773738265037537\n",
      "[epoch 0 _ batch 158]: loss= 0.7220019102096558\n",
      "[epoch 0 _ batch 159]: loss= 0.6598821878433228\n",
      "[epoch 0 _ batch 160]: loss= 0.6860082745552063\n",
      "[epoch 0 _ batch 161]: loss= 0.6886871457099915\n",
      "[epoch 0 _ batch 162]: loss= 0.6936397552490234\n",
      "[epoch 0 _ batch 163]: loss= 0.7048596739768982\n",
      "[epoch 0 _ batch 164]: loss= 0.677800714969635\n",
      "[epoch 0 _ batch 165]: loss= 0.6652622818946838\n",
      "[epoch 0 _ batch 166]: loss= 0.6752893328666687\n",
      "[epoch 0 _ batch 167]: loss= 0.6863165497779846\n",
      "[epoch 0 _ batch 168]: loss= 0.7048473358154297\n",
      "[epoch 0 _ batch 169]: loss= 0.6767899990081787\n",
      "[epoch 0 _ batch 170]: loss= 0.6796693205833435\n",
      "[epoch 0 _ batch 171]: loss= 0.672907292842865\n",
      "[epoch 0 _ batch 172]: loss= 0.6364744901657104\n",
      "[epoch 0 _ batch 173]: loss= 0.6675058603286743\n",
      "[epoch 0 _ batch 174]: loss= 0.6756516695022583\n"
     ]
    },
    {
     "output_type": "stream",
     "name": "stdout",
     "text": [
      "[epoch 0 _ batch 175]: loss= 0.6459961533546448\n",
      "[epoch 0 _ batch 176]: loss= 0.6602675318717957\n",
      "[epoch 0 _ batch 177]: loss= 0.6955536603927612\n",
      "[epoch 0 _ batch 178]: loss= 0.6790190935134888\n",
      "[epoch 0 _ batch 179]: loss= 0.7009780406951904\n",
      "[epoch 0 _ batch 180]: loss= 0.6312284469604492\n",
      "[epoch 0 _ batch 181]: loss= 0.6668536067008972\n",
      "[epoch 0 _ batch 182]: loss= 0.635440468788147\n",
      "[epoch 0 _ batch 183]: loss= 0.6270108222961426\n",
      "[epoch 0 _ batch 184]: loss= 0.7168405652046204\n",
      "[epoch 0 _ batch 185]: loss= 0.6456061005592346\n",
      "[epoch 0 _ batch 186]: loss= 0.7075785994529724\n",
      "[epoch 0 _ batch 187]: loss= 0.7027162313461304\n",
      "[epoch 0 _ batch 188]: loss= 0.7324270009994507\n",
      "[epoch 0 _ batch 189]: loss= 0.6051031947135925\n",
      "[epoch 1 _ batch 1]: loss= 0.6380974054336548\n",
      "[epoch 1 _ batch 2]: loss= 0.6002305150032043\n",
      "[epoch 1 _ batch 3]: loss= 0.6317001581192017\n",
      "[epoch 1 _ batch 4]: loss= 0.5014652013778687\n",
      "[epoch 1 _ batch 5]: loss= 0.519213080406189\n",
      "[epoch 1 _ batch 6]: loss= 1.0111420154571533\n",
      "[epoch 1 _ batch 7]: loss= 0.932934582233429\n",
      "[epoch 1 _ batch 8]: loss= 0.6359672546386719\n",
      "[epoch 1 _ batch 9]: loss= 0.4609413146972656\n",
      "[epoch 1 _ batch 10]: loss= 0.602564811706543\n",
      "[epoch 1 _ batch 11]: loss= 0.6960323452949524\n",
      "[epoch 1 _ batch 12]: loss= 0.5466286540031433\n",
      "[epoch 1 _ batch 13]: loss= 0.7246220111846924\n",
      "[epoch 1 _ batch 14]: loss= 0.9408854246139526\n",
      "[epoch 1 _ batch 15]: loss= 0.6664859056472778\n",
      "[epoch 1 _ batch 16]: loss= 0.7826859354972839\n",
      "[epoch 1 _ batch 17]: loss= 0.6008570194244385\n",
      "[epoch 1 _ batch 18]: loss= 0.6598700881004333\n",
      "[epoch 1 _ batch 19]: loss= 0.6128032207489014\n",
      "[epoch 1 _ batch 20]: loss= 0.8019559383392334\n",
      "[epoch 1 _ batch 21]: loss= 0.671637773513794\n",
      "[epoch 1 _ batch 22]: loss= 0.7393633127212524\n",
      "[epoch 1 _ batch 23]: loss= 0.6079748868942261\n",
      "[epoch 1 _ batch 24]: loss= 0.6863870620727539\n",
      "[epoch 1 _ batch 25]: loss= 0.6151152849197388\n",
      "[epoch 1 _ batch 26]: loss= 0.6216892004013062\n",
      "[epoch 1 _ batch 27]: loss= 0.6142640113830566\n",
      "[epoch 1 _ batch 28]: loss= 0.6219289302825928\n",
      "[epoch 1 _ batch 29]: loss= 0.6287194490432739\n",
      "[epoch 1 _ batch 30]: loss= 0.535882294178009\n",
      "[epoch 1 _ batch 31]: loss= 0.7415656447410583\n",
      "[epoch 1 _ batch 32]: loss= 0.7290615439414978\n",
      "[epoch 1 _ batch 33]: loss= 0.6263980269432068\n",
      "[epoch 1 _ batch 34]: loss= 0.8174651265144348\n",
      "[epoch 1 _ batch 35]: loss= 0.4916282296180725\n",
      "[epoch 1 _ batch 36]: loss= 0.6892176866531372\n",
      "[epoch 1 _ batch 37]: loss= 0.7085062265396118\n",
      "[epoch 1 _ batch 38]: loss= 0.5630284547805786\n",
      "[epoch 1 _ batch 39]: loss= 0.8039411306381226\n",
      "[epoch 1 _ batch 40]: loss= 0.5581897497177124\n",
      "[epoch 1 _ batch 41]: loss= 0.575171947479248\n",
      "[epoch 1 _ batch 42]: loss= 0.6291183233261108\n",
      "[epoch 1 _ batch 43]: loss= 0.5384109616279602\n",
      "[epoch 1 _ batch 44]: loss= 0.7709304094314575\n",
      "[epoch 1 _ batch 45]: loss= 0.6365503668785095\n",
      "[epoch 1 _ batch 46]: loss= 0.5614921450614929\n",
      "[epoch 1 _ batch 47]: loss= 0.5521328449249268\n",
      "[epoch 1 _ batch 48]: loss= 0.6396431922912598\n",
      "[epoch 1 _ batch 49]: loss= 0.49640321731567383\n",
      "[epoch 1 _ batch 50]: loss= 0.5585184693336487\n",
      "[epoch 1 _ batch 51]: loss= 0.3749051094055176\n",
      "[epoch 1 _ batch 52]: loss= 0.6732931137084961\n",
      "[epoch 1 _ batch 53]: loss= 0.44269123673439026\n",
      "[epoch 1 _ batch 54]: loss= 0.4553981423377991\n",
      "[epoch 1 _ batch 55]: loss= 0.6090231537818909\n",
      "[epoch 1 _ batch 56]: loss= 0.5381890535354614\n",
      "[epoch 1 _ batch 57]: loss= 0.6904534697532654\n",
      "[epoch 1 _ batch 58]: loss= 0.6151225566864014\n",
      "[epoch 1 _ batch 59]: loss= 0.5992724299430847\n",
      "[epoch 1 _ batch 60]: loss= 0.5384342074394226\n",
      "[epoch 1 _ batch 61]: loss= 0.6235382556915283\n",
      "[epoch 1 _ batch 62]: loss= 0.7790435552597046\n",
      "[epoch 1 _ batch 63]: loss= 0.5319368839263916\n",
      "[epoch 1 _ batch 64]: loss= 0.37029629945755005\n",
      "[epoch 1 _ batch 65]: loss= 0.3679591119289398\n",
      "[epoch 1 _ batch 66]: loss= 0.7795268297195435\n",
      "[epoch 1 _ batch 67]: loss= 0.5582437515258789\n",
      "[epoch 1 _ batch 68]: loss= 0.7107138633728027\n",
      "[epoch 1 _ batch 69]: loss= 0.7156866192817688\n",
      "[epoch 1 _ batch 70]: loss= 0.9260286092758179\n",
      "[epoch 1 _ batch 71]: loss= 0.664878249168396\n",
      "[epoch 1 _ batch 72]: loss= 0.8012480139732361\n",
      "[epoch 1 _ batch 73]: loss= 0.5696827173233032\n",
      "[epoch 1 _ batch 74]: loss= 0.6392939686775208\n",
      "[epoch 1 _ batch 75]: loss= 0.6561257839202881\n",
      "[epoch 1 _ batch 76]: loss= 0.5206142663955688\n",
      "[epoch 1 _ batch 77]: loss= 0.666598379611969\n",
      "[epoch 1 _ batch 78]: loss= 0.6822001934051514\n",
      "[epoch 1 _ batch 79]: loss= 0.6752175092697144\n",
      "[epoch 1 _ batch 80]: loss= 0.7309152483940125\n",
      "[epoch 1 _ batch 81]: loss= 0.5953660607337952\n",
      "[epoch 1 _ batch 82]: loss= 0.6961565017700195\n",
      "[epoch 1 _ batch 83]: loss= 0.5742466449737549\n",
      "[epoch 1 _ batch 84]: loss= 0.514325737953186\n",
      "[epoch 1 _ batch 85]: loss= 0.6336649060249329\n",
      "[epoch 1 _ batch 86]: loss= 0.8259849548339844\n",
      "[epoch 1 _ batch 87]: loss= 0.5581310391426086\n",
      "[epoch 1 _ batch 88]: loss= 0.787455677986145\n",
      "[epoch 1 _ batch 89]: loss= 0.5780825614929199\n",
      "[epoch 1 _ batch 90]: loss= 0.583422064781189\n",
      "[epoch 1 _ batch 91]: loss= 0.7797646522521973\n",
      "[epoch 1 _ batch 92]: loss= 0.5561510324478149\n",
      "[epoch 1 _ batch 93]: loss= 0.6198760867118835\n",
      "[epoch 1 _ batch 94]: loss= 0.5930591225624084\n",
      "[epoch 1 _ batch 95]: loss= 0.7287917137145996\n",
      "[epoch 1 _ batch 96]: loss= 0.6634703874588013\n",
      "[epoch 1 _ batch 97]: loss= 0.7281915545463562\n",
      "[epoch 1 _ batch 98]: loss= 0.5831637382507324\n",
      "[epoch 1 _ batch 99]: loss= 0.6728233098983765\n",
      "[epoch 1 _ batch 100]: loss= 0.4659464359283447\n",
      "[epoch 1 _ batch 101]: loss= 0.6343839168548584\n",
      "[epoch 1 _ batch 102]: loss= 0.8357959985733032\n",
      "[epoch 1 _ batch 103]: loss= 0.7529722452163696\n",
      "[epoch 1 _ batch 104]: loss= 0.6716763377189636\n",
      "[epoch 1 _ batch 105]: loss= 0.6183971762657166\n",
      "[epoch 1 _ batch 106]: loss= 0.4370550215244293\n",
      "[epoch 1 _ batch 107]: loss= 0.44557952880859375\n",
      "[epoch 1 _ batch 108]: loss= 0.7709156274795532\n",
      "[epoch 1 _ batch 109]: loss= 0.4671838879585266\n",
      "[epoch 1 _ batch 110]: loss= 0.770506739616394\n",
      "[epoch 1 _ batch 111]: loss= 0.5075745582580566\n",
      "[epoch 1 _ batch 112]: loss= 0.8314267992973328\n",
      "[epoch 1 _ batch 113]: loss= 0.6290027499198914\n",
      "[epoch 1 _ batch 114]: loss= 0.5984896421432495\n",
      "[epoch 1 _ batch 115]: loss= 0.5192859768867493\n",
      "[epoch 1 _ batch 116]: loss= 0.5496891736984253\n",
      "[epoch 1 _ batch 117]: loss= 0.6612379550933838\n",
      "[epoch 1 _ batch 118]: loss= 0.6814654469490051\n",
      "[epoch 1 _ batch 119]: loss= 0.6153098344802856\n",
      "[epoch 1 _ batch 120]: loss= 0.42830586433410645\n",
      "[epoch 1 _ batch 121]: loss= 0.6225214600563049\n",
      "[epoch 1 _ batch 122]: loss= 0.5519639849662781\n",
      "[epoch 1 _ batch 123]: loss= 0.7366864681243896\n",
      "[epoch 1 _ batch 124]: loss= 0.5525171756744385\n",
      "[epoch 1 _ batch 125]: loss= 0.883623480796814\n",
      "[epoch 1 _ batch 126]: loss= 0.638668417930603\n",
      "[epoch 1 _ batch 127]: loss= 0.6950915455818176\n",
      "[epoch 1 _ batch 128]: loss= 0.597176194190979\n",
      "[epoch 1 _ batch 129]: loss= 0.3637504279613495\n",
      "[epoch 1 _ batch 130]: loss= 0.5139644145965576\n",
      "[epoch 1 _ batch 131]: loss= 0.40149012207984924\n",
      "[epoch 1 _ batch 132]: loss= 0.6515452861785889\n",
      "[epoch 1 _ batch 133]: loss= 0.43907830119132996\n",
      "[epoch 1 _ batch 134]: loss= 0.5500940084457397\n",
      "[epoch 1 _ batch 135]: loss= 0.5085789561271667\n",
      "[epoch 1 _ batch 136]: loss= 0.717480480670929\n",
      "[epoch 1 _ batch 137]: loss= 0.6013032793998718\n",
      "[epoch 1 _ batch 138]: loss= 0.4566759467124939\n",
      "[epoch 1 _ batch 139]: loss= 0.4036937654018402\n",
      "[epoch 1 _ batch 140]: loss= 0.605616569519043\n",
      "[epoch 1 _ batch 141]: loss= 0.47689932584762573\n",
      "[epoch 1 _ batch 142]: loss= 0.36594289541244507\n",
      "[epoch 1 _ batch 143]: loss= 0.37976619601249695\n",
      "[epoch 1 _ batch 144]: loss= 0.5900408625602722\n",
      "[epoch 1 _ batch 145]: loss= 1.0099141597747803\n",
      "[epoch 1 _ batch 146]: loss= 0.4755176305770874\n",
      "[epoch 1 _ batch 147]: loss= 0.8437725305557251\n",
      "[epoch 1 _ batch 148]: loss= 0.574445903301239\n",
      "[epoch 1 _ batch 149]: loss= 1.0061074495315552\n",
      "[epoch 1 _ batch 150]: loss= 0.5989935994148254\n",
      "[epoch 1 _ batch 151]: loss= 0.587013840675354\n",
      "[epoch 1 _ batch 152]: loss= 0.4624673128128052\n",
      "[epoch 1 _ batch 153]: loss= 0.6565545797348022\n",
      "[epoch 1 _ batch 154]: loss= 0.6399675607681274\n",
      "[epoch 1 _ batch 155]: loss= 0.6248428821563721\n",
      "[epoch 1 _ batch 156]: loss= 0.503858745098114\n",
      "[epoch 1 _ batch 157]: loss= 0.61314857006073\n",
      "[epoch 1 _ batch 158]: loss= 0.7328197956085205\n",
      "[epoch 1 _ batch 159]: loss= 0.6286868453025818\n"
     ]
    },
    {
     "output_type": "stream",
     "name": "stdout",
     "text": [
      "[epoch 1 _ batch 160]: loss= 0.5723483562469482\n",
      "[epoch 1 _ batch 161]: loss= 0.6632053852081299\n",
      "[epoch 1 _ batch 162]: loss= 0.6908497214317322\n",
      "[epoch 1 _ batch 163]: loss= 0.43951788544654846\n",
      "[epoch 1 _ batch 164]: loss= 0.691270112991333\n",
      "[epoch 1 _ batch 165]: loss= 0.7780430316925049\n",
      "[epoch 1 _ batch 166]: loss= 0.8390643000602722\n",
      "[epoch 1 _ batch 167]: loss= 0.5165436267852783\n",
      "[epoch 1 _ batch 168]: loss= 0.6048620939254761\n",
      "[epoch 1 _ batch 169]: loss= 0.48430103063583374\n",
      "[epoch 1 _ batch 170]: loss= 0.5362383723258972\n",
      "[epoch 1 _ batch 171]: loss= 0.7134630084037781\n",
      "[epoch 1 _ batch 172]: loss= 0.6590862274169922\n",
      "[epoch 1 _ batch 173]: loss= 0.6029428243637085\n",
      "[epoch 1 _ batch 174]: loss= 0.5809639692306519\n",
      "[epoch 1 _ batch 175]: loss= 0.6872521638870239\n",
      "[epoch 1 _ batch 176]: loss= 0.5503210425376892\n",
      "[epoch 1 _ batch 177]: loss= 0.5541536211967468\n",
      "[epoch 1 _ batch 178]: loss= 0.5504732131958008\n",
      "[epoch 1 _ batch 179]: loss= 0.4409852921962738\n",
      "[epoch 1 _ batch 180]: loss= 0.7345361709594727\n",
      "[epoch 1 _ batch 181]: loss= 0.5794186592102051\n",
      "[epoch 1 _ batch 182]: loss= 0.5782548189163208\n",
      "[epoch 1 _ batch 183]: loss= 0.6544422507286072\n",
      "[epoch 1 _ batch 184]: loss= 1.0537748336791992\n",
      "[epoch 1 _ batch 185]: loss= 0.5488958358764648\n",
      "[epoch 1 _ batch 186]: loss= 0.8365524411201477\n",
      "[epoch 1 _ batch 187]: loss= 0.565975546836853\n",
      "[epoch 1 _ batch 188]: loss= 0.730216920375824\n",
      "[epoch 1 _ batch 189]: loss= 0.5903506278991699\n",
      "[epoch 2 _ batch 1]: loss= 0.7556462287902832\n",
      "[epoch 2 _ batch 2]: loss= 0.41160812973976135\n",
      "[epoch 2 _ batch 3]: loss= 0.6062250733375549\n",
      "[epoch 2 _ batch 4]: loss= 0.4891243875026703\n",
      "[epoch 2 _ batch 5]: loss= 0.45579513907432556\n",
      "[epoch 2 _ batch 6]: loss= 0.7621726989746094\n",
      "[epoch 2 _ batch 7]: loss= 0.8035094738006592\n",
      "[epoch 2 _ batch 8]: loss= 0.7688314318656921\n",
      "[epoch 2 _ batch 9]: loss= 0.40148699283599854\n",
      "[epoch 2 _ batch 10]: loss= 0.5031350255012512\n",
      "[epoch 2 _ batch 11]: loss= 0.4962819814682007\n",
      "[epoch 2 _ batch 12]: loss= 0.4793170094490051\n",
      "[epoch 2 _ batch 13]: loss= 0.42799243330955505\n",
      "[epoch 2 _ batch 14]: loss= 0.5314329266548157\n",
      "[epoch 2 _ batch 15]: loss= 0.5275697112083435\n",
      "[epoch 2 _ batch 16]: loss= 0.6110748052597046\n",
      "[epoch 2 _ batch 17]: loss= 0.39666301012039185\n",
      "[epoch 2 _ batch 18]: loss= 0.29190921783447266\n",
      "[epoch 2 _ batch 19]: loss= 0.4951974153518677\n",
      "[epoch 2 _ batch 20]: loss= 0.5271403789520264\n",
      "[epoch 2 _ batch 21]: loss= 0.8284487724304199\n",
      "[epoch 2 _ batch 22]: loss= 0.3546915054321289\n",
      "[epoch 2 _ batch 23]: loss= 0.5962382555007935\n",
      "[epoch 2 _ batch 24]: loss= 0.36369049549102783\n",
      "[epoch 2 _ batch 25]: loss= 0.43748733401298523\n",
      "[epoch 2 _ batch 26]: loss= 0.5420506596565247\n",
      "[epoch 2 _ batch 27]: loss= 0.3381615877151489\n",
      "[epoch 2 _ batch 28]: loss= 0.28215816617012024\n",
      "[epoch 2 _ batch 29]: loss= 0.46491095423698425\n",
      "[epoch 2 _ batch 30]: loss= 0.5361714959144592\n",
      "[epoch 2 _ batch 31]: loss= 0.26177841424942017\n",
      "[epoch 2 _ batch 32]: loss= 0.3382788896560669\n",
      "[epoch 2 _ batch 33]: loss= 0.5498005151748657\n",
      "[epoch 2 _ batch 34]: loss= 0.4219019114971161\n",
      "[epoch 2 _ batch 35]: loss= 0.4056175947189331\n",
      "[epoch 2 _ batch 36]: loss= 0.14417940378189087\n",
      "[epoch 2 _ batch 37]: loss= 0.7325860857963562\n",
      "[epoch 2 _ batch 38]: loss= 0.5221574306488037\n",
      "[epoch 2 _ batch 39]: loss= 0.5562097430229187\n",
      "[epoch 2 _ batch 40]: loss= 0.7897114753723145\n",
      "[epoch 2 _ batch 41]: loss= 0.549374520778656\n",
      "[epoch 2 _ batch 42]: loss= 0.4119640588760376\n",
      "[epoch 2 _ batch 43]: loss= 0.3497035503387451\n",
      "[epoch 2 _ batch 44]: loss= 0.25924479961395264\n",
      "[epoch 2 _ batch 45]: loss= 0.6847546696662903\n",
      "[epoch 2 _ batch 46]: loss= 0.45582303404808044\n",
      "[epoch 2 _ batch 47]: loss= 0.49927249550819397\n",
      "[epoch 2 _ batch 48]: loss= 0.47556307911872864\n",
      "[epoch 2 _ batch 49]: loss= 0.4569019079208374\n",
      "[epoch 2 _ batch 50]: loss= 0.4678002893924713\n",
      "[epoch 2 _ batch 51]: loss= 0.17736035585403442\n",
      "[epoch 2 _ batch 52]: loss= 0.304762601852417\n",
      "[epoch 2 _ batch 53]: loss= 0.23731257021427155\n",
      "[epoch 2 _ batch 54]: loss= 0.17755962908267975\n",
      "[epoch 2 _ batch 55]: loss= 0.1950429528951645\n",
      "[epoch 2 _ batch 56]: loss= 1.2161277532577515\n",
      "[epoch 2 _ batch 57]: loss= 0.7521210312843323\n",
      "[epoch 2 _ batch 58]: loss= 0.4807433784008026\n",
      "[epoch 2 _ batch 59]: loss= 0.561997652053833\n",
      "[epoch 2 _ batch 60]: loss= 0.5263487100601196\n",
      "[epoch 2 _ batch 61]: loss= 0.45900189876556396\n",
      "[epoch 2 _ batch 62]: loss= 0.3662031292915344\n",
      "[epoch 2 _ batch 63]: loss= 0.4551296830177307\n",
      "[epoch 2 _ batch 64]: loss= 0.536582350730896\n",
      "[epoch 2 _ batch 65]: loss= 0.38142430782318115\n",
      "[epoch 2 _ batch 66]: loss= 0.38165879249572754\n",
      "[epoch 2 _ batch 67]: loss= 0.4685313403606415\n",
      "[epoch 2 _ batch 68]: loss= 0.4871855080127716\n",
      "[epoch 2 _ batch 69]: loss= 0.6576287150382996\n",
      "[epoch 2 _ batch 70]: loss= 0.5503090620040894\n",
      "[epoch 2 _ batch 71]: loss= 0.5105797052383423\n",
      "[epoch 2 _ batch 72]: loss= 0.6486284732818604\n",
      "[epoch 2 _ batch 73]: loss= 0.3879983127117157\n",
      "[epoch 2 _ batch 74]: loss= 0.3589336574077606\n",
      "[epoch 2 _ batch 75]: loss= 0.30365753173828125\n",
      "[epoch 2 _ batch 76]: loss= 0.16174955666065216\n",
      "[epoch 2 _ batch 77]: loss= 0.4693564474582672\n",
      "[epoch 2 _ batch 78]: loss= 0.6740462779998779\n",
      "[epoch 2 _ batch 79]: loss= 0.4374942183494568\n",
      "[epoch 2 _ batch 80]: loss= 0.8039811849594116\n",
      "[epoch 2 _ batch 81]: loss= 0.18457098305225372\n",
      "[epoch 2 _ batch 82]: loss= 0.37883663177490234\n",
      "[epoch 2 _ batch 83]: loss= 0.8459500074386597\n",
      "[epoch 2 _ batch 84]: loss= 0.5923427939414978\n",
      "[epoch 2 _ batch 85]: loss= 0.7001569271087646\n",
      "[epoch 2 _ batch 86]: loss= 0.5412127375602722\n",
      "[epoch 2 _ batch 87]: loss= 0.36348143219947815\n",
      "[epoch 2 _ batch 88]: loss= 0.30496805906295776\n",
      "[epoch 2 _ batch 89]: loss= 0.15319368243217468\n",
      "[epoch 2 _ batch 90]: loss= 0.43870648741722107\n",
      "[epoch 2 _ batch 91]: loss= 0.2112225592136383\n",
      "[epoch 2 _ batch 92]: loss= 0.33802369236946106\n",
      "[epoch 2 _ batch 93]: loss= 0.3315975069999695\n",
      "[epoch 2 _ batch 94]: loss= 0.15608888864517212\n",
      "[epoch 2 _ batch 95]: loss= 0.35739389061927795\n",
      "[epoch 2 _ batch 96]: loss= 0.9556846022605896\n",
      "[epoch 2 _ batch 97]: loss= 0.6333571672439575\n",
      "[epoch 2 _ batch 98]: loss= 0.29692280292510986\n",
      "[epoch 2 _ batch 99]: loss= 0.2426566779613495\n",
      "[epoch 2 _ batch 100]: loss= 1.9358630180358887\n",
      "[epoch 2 _ batch 101]: loss= 0.595475435256958\n",
      "[epoch 2 _ batch 102]: loss= 0.4074893593788147\n",
      "[epoch 2 _ batch 103]: loss= 0.2787756025791168\n",
      "[epoch 2 _ batch 104]: loss= 0.19085143506526947\n",
      "[epoch 2 _ batch 105]: loss= 0.4997297525405884\n",
      "[epoch 2 _ batch 106]: loss= 0.6285122632980347\n",
      "[epoch 2 _ batch 107]: loss= 0.9198282361030579\n",
      "[epoch 2 _ batch 108]: loss= 0.7368776798248291\n",
      "[epoch 2 _ batch 109]: loss= 0.5541440844535828\n",
      "[epoch 2 _ batch 110]: loss= 0.540748655796051\n",
      "[epoch 2 _ batch 111]: loss= 0.41730234026908875\n",
      "[epoch 2 _ batch 112]: loss= 0.5379581451416016\n",
      "[epoch 2 _ batch 113]: loss= 0.709927499294281\n",
      "[epoch 2 _ batch 114]: loss= 0.45724037289619446\n",
      "[epoch 2 _ batch 115]: loss= 0.5422513484954834\n",
      "[epoch 2 _ batch 116]: loss= 0.4035853147506714\n",
      "[epoch 2 _ batch 117]: loss= 0.4859795570373535\n",
      "[epoch 2 _ batch 118]: loss= 0.4634871482849121\n",
      "[epoch 2 _ batch 119]: loss= 0.6285676956176758\n",
      "[epoch 2 _ batch 120]: loss= 0.2669188976287842\n",
      "[epoch 2 _ batch 121]: loss= 0.3212087154388428\n",
      "[epoch 2 _ batch 122]: loss= 0.18153724074363708\n",
      "[epoch 2 _ batch 123]: loss= 0.36129075288772583\n",
      "[epoch 2 _ batch 124]: loss= 0.33434611558914185\n",
      "[epoch 2 _ batch 125]: loss= 0.6016663908958435\n",
      "[epoch 2 _ batch 126]: loss= 0.4482053220272064\n",
      "[epoch 2 _ batch 127]: loss= 0.24325980246067047\n",
      "[epoch 2 _ batch 128]: loss= 1.0019490718841553\n",
      "[epoch 2 _ batch 129]: loss= 0.40954428911209106\n",
      "[epoch 2 _ batch 130]: loss= 0.27961239218711853\n",
      "[epoch 2 _ batch 131]: loss= 0.2718615233898163\n",
      "[epoch 2 _ batch 132]: loss= 0.47887617349624634\n",
      "[epoch 2 _ batch 133]: loss= 0.7854989767074585\n",
      "[epoch 2 _ batch 134]: loss= 0.5458291172981262\n",
      "[epoch 2 _ batch 135]: loss= 0.35491281747817993\n",
      "[epoch 2 _ batch 136]: loss= 0.4167618155479431\n",
      "[epoch 2 _ batch 137]: loss= 0.3814493417739868\n",
      "[epoch 2 _ batch 138]: loss= 0.7737309336662292\n",
      "[epoch 2 _ batch 139]: loss= 0.3566166162490845\n",
      "[epoch 2 _ batch 140]: loss= 0.7013561129570007\n",
      "[epoch 2 _ batch 141]: loss= 0.27559468150138855\n",
      "[epoch 2 _ batch 142]: loss= 0.7571561336517334\n",
      "[epoch 2 _ batch 143]: loss= 0.6539474725723267\n"
     ]
    },
    {
     "output_type": "stream",
     "name": "stdout",
     "text": [
      "[epoch 2 _ batch 144]: loss= 0.48060721158981323\n",
      "[epoch 2 _ batch 145]: loss= 0.567516028881073\n",
      "[epoch 2 _ batch 146]: loss= 0.24187082052230835\n",
      "[epoch 2 _ batch 147]: loss= 0.18804070353507996\n",
      "[epoch 2 _ batch 148]: loss= 0.3235822916030884\n",
      "[epoch 2 _ batch 149]: loss= 0.5392857193946838\n",
      "[epoch 2 _ batch 150]: loss= 0.3995617628097534\n",
      "[epoch 2 _ batch 151]: loss= 0.34037917852401733\n",
      "[epoch 2 _ batch 152]: loss= 0.5080145001411438\n",
      "[epoch 2 _ batch 153]: loss= 0.42287561297416687\n",
      "[epoch 2 _ batch 154]: loss= 0.20311492681503296\n",
      "[epoch 2 _ batch 155]: loss= 0.954956591129303\n",
      "[epoch 2 _ batch 156]: loss= 0.6204107403755188\n",
      "[epoch 2 _ batch 157]: loss= 0.1626695841550827\n",
      "[epoch 2 _ batch 158]: loss= 0.5174750089645386\n",
      "[epoch 2 _ batch 159]: loss= 0.22419315576553345\n",
      "[epoch 2 _ batch 160]: loss= 0.19250522553920746\n",
      "[epoch 2 _ batch 161]: loss= 0.14667962491512299\n",
      "[epoch 2 _ batch 162]: loss= 0.25491562485694885\n",
      "[epoch 2 _ batch 163]: loss= 0.5220133066177368\n",
      "[epoch 2 _ batch 164]: loss= 0.3912634253501892\n",
      "[epoch 2 _ batch 165]: loss= 0.5408704876899719\n",
      "[epoch 2 _ batch 166]: loss= 0.2634503245353699\n",
      "[epoch 2 _ batch 167]: loss= 0.25959140062332153\n",
      "[epoch 2 _ batch 168]: loss= 0.66643226146698\n",
      "[epoch 2 _ batch 169]: loss= 0.9371022582054138\n",
      "[epoch 2 _ batch 170]: loss= 0.264864057302475\n",
      "[epoch 2 _ batch 171]: loss= 0.44543322920799255\n",
      "[epoch 2 _ batch 172]: loss= 0.2855624556541443\n",
      "[epoch 2 _ batch 173]: loss= 0.18383516371250153\n",
      "[epoch 2 _ batch 174]: loss= 0.7475254535675049\n",
      "[epoch 2 _ batch 175]: loss= 0.5241700410842896\n",
      "[epoch 2 _ batch 176]: loss= 0.29818618297576904\n",
      "[epoch 2 _ batch 177]: loss= 0.3086877167224884\n",
      "[epoch 2 _ batch 178]: loss= 0.5411365628242493\n",
      "[epoch 2 _ batch 179]: loss= 0.3795042634010315\n",
      "[epoch 2 _ batch 180]: loss= 0.48049798607826233\n",
      "[epoch 2 _ batch 181]: loss= 0.4060472249984741\n",
      "[epoch 2 _ batch 182]: loss= 0.37313905358314514\n",
      "[epoch 2 _ batch 183]: loss= 0.46958768367767334\n",
      "[epoch 2 _ batch 184]: loss= 0.25753381848335266\n",
      "[epoch 2 _ batch 185]: loss= 0.4652489721775055\n",
      "[epoch 2 _ batch 186]: loss= 0.6700301170349121\n",
      "[epoch 2 _ batch 187]: loss= 0.620790958404541\n",
      "[epoch 2 _ batch 188]: loss= 0.3166418969631195\n",
      "[epoch 2 _ batch 189]: loss= 0.6436964869499207\n"
     ]
    }
   ],
   "metadata": {
    "scrolled": false
   }
  },
  {
   "cell_type": "markdown",
   "source": [
    "## 3.2 Model evaluation"
   ],
   "metadata": {}
  },
  {
   "cell_type": "markdown",
   "source": [
    "write a class that composes several metrics to allow composed metric evalution"
   ],
   "metadata": {}
  },
  {
   "cell_type": "code",
   "execution_count": 20,
   "source": [
    "class Metric_composer():\n",
    "    \"\"\"\n",
    "    this class is used to evaluate model predictions on multiple metrics simultaneously\n",
    "    \"\"\"\n",
    "    \n",
    "    def __init__(self,metrics_dict):\n",
    "        \"\"\"\n",
    "        task: init composer and set its metrics field \\n\n",
    "        parameters:metrics_dict(sting(metric name): callable(metric func))\\n\n",
    "        return value:\n",
    "        \"\"\"\n",
    "        \n",
    "        self.metrics= metrics_dict\n",
    "        \n",
    "    def evaluate(self,y_truth,y_pred):\n",
    "        \"\"\"\n",
    "        task: use the metrics in the self.metrics field to evaluate the given y values \\n\n",
    "        parameters: y_truth(ground truth labels), y_pred(predicted labels) \\n\n",
    "        return value: dict(string(name):evaluation of corresponding function)\n",
    "        \"\"\"\n",
    "    \n",
    "        evaluation={}\n",
    "        for name,metric_func in self.metrics.items():\n",
    "            \n",
    "            evaluation[name]= metric_func(y_truth,y_pred)\n",
    "            \n",
    "        return evaluation\n",
    "    "
   ],
   "outputs": [],
   "metadata": {}
  },
  {
   "cell_type": "code",
   "execution_count": 21,
   "source": [
    "def eval_model(model,dataloader,metric_composer_obj):\n",
    "    \"\"\"\n",
    "    task: evaluate the model on the given dataloader using the loss_func \\n\n",
    "    parameters: model(torch.nn.Module subclass), dataloader(torch.utils.data.DataLoader instance), metric_composer_obj(instance of Metric_composer) \\n\n",
    "    return value:\n",
    "    \"\"\"\n",
    "    \n",
    "    #put model into evaluation mode\n",
    "    model.eval()\n",
    "    \n",
    "    y_pred=[]\n",
    "    y_truth=[]\n",
    "    with torch.no_grad():\n",
    "        \n",
    "        for batch in dataloader:\n",
    "            \n",
    "            #unpack the batch\n",
    "            input_ids_list,attention_mask_list,label_list,*_=batch\n",
    "            \n",
    "            #evalaute batch with model\n",
    "            output=model(input_ids_list,attention_mask_list)\n",
    "            \n",
    "            #model outputs a prob distribution over the 2 classes, so get argmax to retreive predicted label\n",
    "            predicted_labels=torch.argmax(output.logits, axis=1).flatten()\n",
    "    \n",
    "            #append both the predicted labels and the true labels \n",
    "            y_pred+=predicted_labels.tolist()\n",
    "            y_truth+=label_list.flatten().tolist()\n",
    "            \n",
    "            \n",
    "    return metric_composer_obj.evaluate(y_truth,y_pred)"
   ],
   "outputs": [],
   "metadata": {}
  },
  {
   "cell_type": "markdown",
   "source": [
    "compose metrics"
   ],
   "metadata": {}
  },
  {
   "cell_type": "code",
   "execution_count": 22,
   "source": [
    "#compose different performance metrics\n",
    "metric_composer_obj= Metric_composer({\n",
    "    \"accuracy\": accuracy_score,\n",
    "    \"precision\": precision_score,\n",
    "    \"confusion_matrix\": confusion_matrix\n",
    "})"
   ],
   "outputs": [],
   "metadata": {}
  },
  {
   "cell_type": "markdown",
   "source": [
    "evaluate performance on train data"
   ],
   "metadata": {}
  },
  {
   "cell_type": "code",
   "execution_count": 23,
   "source": [
    "#iterate over all evaluations and print them\n",
    "train_evaluation=eval_model(model,bert_train_dl,metric_composer_obj)\n",
    "for metric_name, metric_evaluation in train_evaluation.items():\n",
    "    print(f\"----{metric_name}----\")\n",
    "    print(metric_evaluation)\n",
    "    print(\"---------------------\")"
   ],
   "outputs": [
    {
     "output_type": "stream",
     "name": "stdout",
     "text": [
      "----accuracy----\n",
      "0.9537037037037037\n",
      "---------------------\n",
      "----precision----\n",
      "0.9481865284974094\n",
      "---------------------\n",
      "----confusion_matrix----\n",
      "[[710  40]\n",
      " [ 30 732]]\n",
      "---------------------\n"
     ]
    }
   ],
   "metadata": {}
  },
  {
   "cell_type": "markdown",
   "source": [
    "evaluate performance on validation data"
   ],
   "metadata": {}
  },
  {
   "cell_type": "code",
   "execution_count": 24,
   "source": [
    "#iterate over all evaluations and print them\n",
    "valid_evaluation=eval_model(model,bert_valid_dl,metric_composer_obj)\n",
    "for metric_name, metric_evaluation in valid_evaluation.items():\n",
    "    print(f\"----{metric_name}----\")\n",
    "    print(metric_evaluation)\n",
    "    print(\"---------------------\")"
   ],
   "outputs": [
    {
     "output_type": "stream",
     "name": "stdout",
     "text": [
      "----accuracy----\n",
      "0.6613756613756614\n",
      "---------------------\n",
      "----precision----\n",
      "0.6526315789473685\n",
      "---------------------\n",
      "----confusion_matrix----\n",
      "[[63 33]\n",
      " [31 62]]\n",
      "---------------------\n"
     ]
    }
   ],
   "metadata": {}
  },
  {
   "cell_type": "markdown",
   "source": [
    "## 3.3 Store/load the model "
   ],
   "metadata": {}
  },
  {
   "cell_type": "markdown",
   "source": [
    "### 3.3.1 store model"
   ],
   "metadata": {}
  },
  {
   "cell_type": "code",
   "execution_count": 25,
   "source": [
    "def store_model(model,description,dest_path):\n",
    "    \"\"\"\n",
    "    task: store the given model together with a txt file that stores a short description \\n\n",
    "    parameters:model(torch.nn.Module), description(dict), dest_path(each stored model will be stored in a folder containing state_dict and description.txt, this defines the name of the folder)\\n\n",
    "    return value:\n",
    "    \"\"\"\n",
    "    \n",
    "    #create the folder at dest_path if not available\n",
    "    os.mkdir(str(dest_path))\n",
    "    \n",
    "    #store the description in a description.json file\n",
    "    with open(dest_path.joinpath(\"description.json\"),\"w\") as f:\n",
    "        f.write(simplejson.dumps(description, indent=4, sort_keys=True))\n",
    "    \n",
    "    #store the models state dict\n",
    "    torch.save(model.state_dict(), str(dest_path.joinpath(\"state_dict.pth\")))"
   ],
   "outputs": [],
   "metadata": {}
  },
  {
   "cell_type": "markdown",
   "source": [
    "method to force serializability of any dictionary. Used to serialize the notebook_paramters dict when storing a model"
   ],
   "metadata": {}
  },
  {
   "cell_type": "code",
   "execution_count": 26,
   "source": [
    "def recursive_force_serializability(dict_to_transform,max_depth=100,caller_depth=0,replace_unstringable=False):\n",
    "    \"\"\"\n",
    "    task: convert any non-serializable object within that dict to string and thus force serialiazability  \\n\n",
    "    parameters:dict_to_transform(dict), max_depth(int(max depth for recursive calls)),caller_depth(int(depth of the caller)), replace_unstringable=\\n\n",
    "    return value:\n",
    "    \"\"\"\n",
    "    \n",
    "    #create a copy of the original dict in case the caller_depth==0\n",
    "    if caller_depth==0:\n",
    "        dict_to_transform= dict_to_transform.copy()\n",
    "    \n",
    "    current_depth=caller_depth+1\n",
    "    \n",
    "    #recursion anker\n",
    "    if current_depth==max_depth:\n",
    "        warnings.warn(\"exceeded given recursion depth. Unable to fully transform given dictionary\")\n",
    "        return dict_to_transform\n",
    "    \n",
    "    #call ,method recursively on the items of the dict if they are dicts as well, in case of unserializable items convert them to strings if possible\n",
    "    for key,item in dict_to_transform.items():\n",
    "        if type(item)==dict:\n",
    "            dict_to_transform[key]= recursive_force_serializability(item,max_depth=max_depth,caller_depth=current_depth,replace_unstringable=replace_unstringable)\n",
    "        else:\n",
    "            #try to dump the item to check ifg its serializable\n",
    "            try:\n",
    "                json.dumps(item)\n",
    "            except TypeError:\n",
    "                #if not serializable try to transform it to string\n",
    "                try:\n",
    "                    dict_to_transform[key]=str(item)\n",
    "                except TypeError:\n",
    "                    #if not stringable replace by \"unserializable and unstringable object\" string if replace_unstringable==True, else raise error\n",
    "                    if replace_unstringable:\n",
    "                        dict_to_transform[key]=\"unserializable and unstringable object\"\n",
    "                        warnings.warn(f\"replaced object at key {key} with replacement string\")\n",
    "                    else:\n",
    "                        raise AssertionError(\"unserializable and unstringable object was found and replace_unstringable is set to False, set to True if replacement is desired\")\n",
    "                    \n",
    "    return dict_to_transform"
   ],
   "outputs": [],
   "metadata": {}
  },
  {
   "cell_type": "code",
   "execution_count": 27,
   "source": [
    "def create_model_description(notebook_parameters=None,train_evaluation=None,valid_evaluation=None):\n",
    "    \"\"\"\n",
    "    task: create a description of the model by storing the notebook_parameters used and evaluation scores   \\n\n",
    "    parameters: notebook_parameters(dict at beginning of notebook), train_evaluation(output of Model_composer.evaluate on train data),valid_evaluation(output of Model_composer.evaluate on validation data) \\n\n",
    "    return value: dict\n",
    "    \"\"\"\n",
    "    \n",
    "    description={\n",
    "        \"notebook_parameters\": notebook_parameters,\n",
    "        \"train_evaluation\": train_evaluation if train_evaluation else \"no train evaluation available\",\n",
    "        \"valid_evaluation\": valid_evaluation if valid_evaluation else \"no validation evaluation available\"\n",
    "    }\n",
    "\n",
    "    return description\n",
    "    "
   ],
   "outputs": [],
   "metadata": {}
  },
  {
   "cell_type": "code",
   "execution_count": 28,
   "source": [
    "#store the current run\n",
    "folder_name=\"english_v2_best_en_model\"\n",
    "if False: #change to true if desired\n",
    "    desc= create_model_description(notebook_parameters,train_evaluation,valid_evaluation)\n",
    "    dest_folder=notebook_parameters[\"storage_parameters\"][\"path_to_model_storage\"].joinpath(folder_name)\n",
    "    store_model(model,recursive_force_serializability(desc,max_depth=100),dest_folder)"
   ],
   "outputs": [
    {
     "output_type": "error",
     "ename": "FileExistsError",
     "evalue": "[WinError 183] Eine Datei kann nicht erstellt werden, wenn sie bereits vorhanden ist: 'C:\\\\Users\\\\nick\\\\Code\\\\MachineLearning_Projects\\\\Bewerbung_NLP\\\\trainings\\\\trained_models\\\\english_v2_best_en_model'",
     "traceback": [
      "\u001b[1;31m---------------------------------------------------------------------------\u001b[0m",
      "\u001b[1;31mFileExistsError\u001b[0m                           Traceback (most recent call last)",
      "\u001b[1;32m~\\AppData\\Local\\Temp/ipykernel_14812/2421571774.py\u001b[0m in \u001b[0;36m<module>\u001b[1;34m\u001b[0m\n\u001b[0;32m      4\u001b[0m     \u001b[0mdesc\u001b[0m\u001b[1;33m=\u001b[0m \u001b[0mcreate_model_description\u001b[0m\u001b[1;33m(\u001b[0m\u001b[0mnotebook_parameters\u001b[0m\u001b[1;33m,\u001b[0m\u001b[0mtrain_evaluation\u001b[0m\u001b[1;33m,\u001b[0m\u001b[0mvalid_evaluation\u001b[0m\u001b[1;33m)\u001b[0m\u001b[1;33m\u001b[0m\u001b[1;33m\u001b[0m\u001b[0m\n\u001b[0;32m      5\u001b[0m     \u001b[0mdest_folder\u001b[0m\u001b[1;33m=\u001b[0m\u001b[0mnotebook_parameters\u001b[0m\u001b[1;33m[\u001b[0m\u001b[1;34m\"storage_parameters\"\u001b[0m\u001b[1;33m]\u001b[0m\u001b[1;33m[\u001b[0m\u001b[1;34m\"path_to_model_storage\"\u001b[0m\u001b[1;33m]\u001b[0m\u001b[1;33m.\u001b[0m\u001b[0mjoinpath\u001b[0m\u001b[1;33m(\u001b[0m\u001b[0mfolder_name\u001b[0m\u001b[1;33m)\u001b[0m\u001b[1;33m\u001b[0m\u001b[1;33m\u001b[0m\u001b[0m\n\u001b[1;32m----> 6\u001b[1;33m     \u001b[0mstore_model\u001b[0m\u001b[1;33m(\u001b[0m\u001b[0mmodel\u001b[0m\u001b[1;33m,\u001b[0m\u001b[0mrecursive_force_serializability\u001b[0m\u001b[1;33m(\u001b[0m\u001b[0mdesc\u001b[0m\u001b[1;33m,\u001b[0m\u001b[0mmax_depth\u001b[0m\u001b[1;33m=\u001b[0m\u001b[1;36m100\u001b[0m\u001b[1;33m)\u001b[0m\u001b[1;33m,\u001b[0m\u001b[0mdest_folder\u001b[0m\u001b[1;33m)\u001b[0m\u001b[1;33m\u001b[0m\u001b[1;33m\u001b[0m\u001b[0m\n\u001b[0m",
      "\u001b[1;32m~\\AppData\\Local\\Temp/ipykernel_14812/4193321975.py\u001b[0m in \u001b[0;36mstore_model\u001b[1;34m(model, description, dest_path)\u001b[0m\n\u001b[0;32m      7\u001b[0m \u001b[1;33m\u001b[0m\u001b[0m\n\u001b[0;32m      8\u001b[0m     \u001b[1;31m#create the folder at dest_path if not available\u001b[0m\u001b[1;33m\u001b[0m\u001b[1;33m\u001b[0m\u001b[1;33m\u001b[0m\u001b[0m\n\u001b[1;32m----> 9\u001b[1;33m     \u001b[0mos\u001b[0m\u001b[1;33m.\u001b[0m\u001b[0mmkdir\u001b[0m\u001b[1;33m(\u001b[0m\u001b[0mstr\u001b[0m\u001b[1;33m(\u001b[0m\u001b[0mdest_path\u001b[0m\u001b[1;33m)\u001b[0m\u001b[1;33m)\u001b[0m\u001b[1;33m\u001b[0m\u001b[1;33m\u001b[0m\u001b[0m\n\u001b[0m\u001b[0;32m     10\u001b[0m \u001b[1;33m\u001b[0m\u001b[0m\n\u001b[0;32m     11\u001b[0m     \u001b[1;31m#store the description in a description.json file\u001b[0m\u001b[1;33m\u001b[0m\u001b[1;33m\u001b[0m\u001b[1;33m\u001b[0m\u001b[0m\n",
      "\u001b[1;31mFileExistsError\u001b[0m: [WinError 183] Eine Datei kann nicht erstellt werden, wenn sie bereits vorhanden ist: 'C:\\\\Users\\\\nick\\\\Code\\\\MachineLearning_Projects\\\\Bewerbung_NLP\\\\trainings\\\\trained_models\\\\english_v2_best_en_model'"
     ]
    }
   ],
   "metadata": {
    "collapsed": true
   }
  },
  {
   "cell_type": "markdown",
   "source": [
    "### 3.3.2 load model"
   ],
   "metadata": {}
  },
  {
   "cell_type": "code",
   "execution_count": null,
   "source": [
    "#load the model in given folder name\n",
    "folder_name=\"chinese_v1\"\n",
    "if False:\n",
    "    model.load_state_dict(torch.load(notebook_parameters[\"storage_parameters\"][\"path_to_model_storage\"].joinpath(folder_name,\"state_dict.pth\")))"
   ],
   "outputs": [],
   "metadata": {}
  },
  {
   "cell_type": "markdown",
   "source": [
    "# 4. Result"
   ],
   "metadata": {}
  },
  {
   "cell_type": "markdown",
   "source": [
    "In comparison to the DistilBERT model that was trained directly on the chinese data this model was way more reliable and did not suffer from the \"all in or all out\" problem as described in the Blogpost_analysis_chinese_DistilBERT notebook, which further amplifies my guess that the problem derives from the uncased tokenizer and model. Speaking of which, the tokenizer used in this notebook was specialized on the english language. As expected, the performance of the models produced within this notebook are slightly worse than those from its chinese BERT counterpart which i would blame on the, nicely said, bullshit quality of the translation software used to translate the original blogposts from chinese to english. An example of a model trained within this notebook can be found under ...  "
   ],
   "metadata": {}
  }
 ],
 "metadata": {
  "kernelspec": {
   "display_name": "Python 3 (ipykernel)",
   "language": "python",
   "name": "python3"
  },
  "language_info": {
   "codemirror_mode": {
    "name": "ipython",
    "version": 3
   },
   "file_extension": ".py",
   "mimetype": "text/x-python",
   "name": "python",
   "nbconvert_exporter": "python",
   "pygments_lexer": "ipython3",
   "version": "3.8.6"
  }
 },
 "nbformat": 4,
 "nbformat_minor": 5
}