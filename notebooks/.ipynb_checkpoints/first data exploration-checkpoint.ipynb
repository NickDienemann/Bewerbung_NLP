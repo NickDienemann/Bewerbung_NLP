{
 "cells": [
  {
   "cell_type": "markdown",
   "id": "fc02c9eb",
   "metadata": {},
   "source": [
    "# 1. Imports"
   ]
  },
  {
   "cell_type": "code",
   "execution_count": 2,
   "id": "e467cd82",
   "metadata": {},
   "outputs": [],
   "source": [
    "import pandas as pd\n",
    "from translation import google,bing"
   ]
  },
  {
   "cell_type": "markdown",
   "id": "0373d852",
   "metadata": {},
   "source": [
    "# 2. Load Data\n"
   ]
  },
  {
   "cell_type": "code",
   "execution_count": 3,
   "id": "08820ced",
   "metadata": {},
   "outputs": [],
   "source": [
    "trial_data=pd.read_csv(r\"C:\\Users\\nick\\Code\\MachineLearning_Projects\\Bewerbung_NLP\\data\\selfmade\\dev.tsv\", sep= \"\\t\")"
   ]
  },
  {
   "cell_type": "code",
   "execution_count": 6,
   "id": "9e67ad78",
   "metadata": {},
   "outputs": [
    {
     "data": {
      "text/plain": [
       "'[Feature: Trump’s 90-minute press conference at the United Nations] Trump talked about many issues, from the dispute surrounding his nominee for the US Supreme Court justice, to the Federal Reserve’s interest rate hike, China, and to his brain capacity. O Feature: Trump’s 90-minute press conference at the United Nations 1'"
      ]
     },
     "execution_count": 6,
     "metadata": {},
     "output_type": "execute_result"
    }
   ],
   "source": [
    "trial_data.iloc[0][\"text label\"]"
   ]
  },
  {
   "cell_type": "markdown",
   "id": "d000685a",
   "metadata": {},
   "source": [
    "get train data"
   ]
  },
  {
   "cell_type": "code",
   "execution_count": 8,
   "id": "0a47c1a2",
   "metadata": {},
   "outputs": [],
   "source": [
    "train_data= pd.read_csv(r\"C:\\Users\\nick\\Code\\MachineLearning_Projects\\Bewerbung_NLP\\data\\v1\\v1\\train.tsv\", sep= \"\\t\")"
   ]
  },
  {
   "cell_type": "code",
   "execution_count": 9,
   "id": "87cd106e",
   "metadata": {},
   "outputs": [
    {
     "data": {
      "text/html": [
       "<div>\n",
       "<style scoped>\n",
       "    .dataframe tbody tr th:only-of-type {\n",
       "        vertical-align: middle;\n",
       "    }\n",
       "\n",
       "    .dataframe tbody tr th {\n",
       "        vertical-align: top;\n",
       "    }\n",
       "\n",
       "    .dataframe thead th {\n",
       "        text-align: right;\n",
       "    }\n",
       "</style>\n",
       "<table border=\"1\" class=\"dataframe\">\n",
       "  <thead>\n",
       "    <tr style=\"text-align: right;\">\n",
       "      <th></th>\n",
       "      <th>text</th>\n",
       "      <th>label</th>\n",
       "    </tr>\n",
       "  </thead>\n",
       "  <tbody>\n",
       "    <tr>\n",
       "      <th>0</th>\n",
       "      <td>据说 卡塔尔 要 退出 石油输出国组织 ， 这是 川普 退群潮 的 连锁反应 ， 也 是 世...</td>\n",
       "      <td>0</td>\n",
       "    </tr>\n",
       "    <tr>\n",
       "      <th>1</th>\n",
       "      <td>早上 没 起床 先 各 渠道 看看 与 川普 在 阿根廷 的 会面 。 留给 中国 国家足球...</td>\n",
       "      <td>1</td>\n",
       "    </tr>\n",
       "    <tr>\n",
       "      <th>2</th>\n",
       "      <td>面对 加拿大 及 美国 的 无理 行为 ， 中国 也 可以 （ 无 任何理由 ） 把 加拿大...</td>\n",
       "      <td>0</td>\n",
       "    </tr>\n",
       "    <tr>\n",
       "      <th>3</th>\n",
       "      <td>如果 特朗普 宣布 美国 对 2000 亿 中国 出口 美国 商品 征收 10% 的 关税 ...</td>\n",
       "      <td>1</td>\n",
       "    </tr>\n",
       "    <tr>\n",
       "      <th>4</th>\n",
       "      <td>两个 白日梦 什么 时候 能 像 宣传 禁毒 一样 宣传 反 强奸 什么 时候 防空警报 能...</td>\n",
       "      <td>0</td>\n",
       "    </tr>\n",
       "    <tr>\n",
       "      <th>...</th>\n",
       "      <td>...</td>\n",
       "      <td>...</td>\n",
       "    </tr>\n",
       "    <tr>\n",
       "      <th>1507</th>\n",
       "      <td>路透社 - - - 美国 总统 特朗普 周三 表示 ， 他 已 就 沙特 记者 贾 迈勒 •...</td>\n",
       "      <td>0</td>\n",
       "    </tr>\n",
       "    <tr>\n",
       "      <th>1508</th>\n",
       "      <td>池子 在 为 红黄蓝 发声 的 时候 ， 在 为 朱军性 侵 女生 发声 的 时候 ， 你们...</td>\n",
       "      <td>1</td>\n",
       "    </tr>\n",
       "    <tr>\n",
       "      <th>1509</th>\n",
       "      <td>外国人 拍 1979 年 中国 ： 多地 仍 残留 着 文革 标语 。 O 外国人 拍 19...</td>\n",
       "      <td>0</td>\n",
       "    </tr>\n",
       "    <tr>\n",
       "      <th>1510</th>\n",
       "      <td>最近 美国政府 派出 的 合规 官员 进驻 中国 中兴公司 ， 这一 做法 就 像 当年 二...</td>\n",
       "      <td>1</td>\n",
       "    </tr>\n",
       "    <tr>\n",
       "      <th>1511</th>\n",
       "      <td>黄冈市 浠水县 巴河镇 建造 垃圾焚烧 厂 这种 情况 不能 引起 上级 相关 部门 重视 ...</td>\n",
       "      <td>1</td>\n",
       "    </tr>\n",
       "  </tbody>\n",
       "</table>\n",
       "<p>1512 rows × 2 columns</p>\n",
       "</div>"
      ],
      "text/plain": [
       "                                                   text  label\n",
       "0     据说 卡塔尔 要 退出 石油输出国组织 ， 这是 川普 退群潮 的 连锁反应 ， 也 是 世...      0\n",
       "1     早上 没 起床 先 各 渠道 看看 与 川普 在 阿根廷 的 会面 。 留给 中国 国家足球...      1\n",
       "2     面对 加拿大 及 美国 的 无理 行为 ， 中国 也 可以 （ 无 任何理由 ） 把 加拿大...      0\n",
       "3     如果 特朗普 宣布 美国 对 2000 亿 中国 出口 美国 商品 征收 10% 的 关税 ...      1\n",
       "4     两个 白日梦 什么 时候 能 像 宣传 禁毒 一样 宣传 反 强奸 什么 时候 防空警报 能...      0\n",
       "...                                                 ...    ...\n",
       "1507  路透社 - - - 美国 总统 特朗普 周三 表示 ， 他 已 就 沙特 记者 贾 迈勒 •...      0\n",
       "1508  池子 在 为 红黄蓝 发声 的 时候 ， 在 为 朱军性 侵 女生 发声 的 时候 ， 你们...      1\n",
       "1509  外国人 拍 1979 年 中国 ： 多地 仍 残留 着 文革 标语 。 O 外国人 拍 19...      0\n",
       "1510  最近 美国政府 派出 的 合规 官员 进驻 中国 中兴公司 ， 这一 做法 就 像 当年 二...      1\n",
       "1511  黄冈市 浠水县 巴河镇 建造 垃圾焚烧 厂 这种 情况 不能 引起 上级 相关 部门 重视 ...      1\n",
       "\n",
       "[1512 rows x 2 columns]"
      ]
     },
     "execution_count": 9,
     "metadata": {},
     "output_type": "execute_result"
    }
   ],
   "source": [
    "train_data"
   ]
  },
  {
   "cell_type": "markdown",
   "id": "2b136b4f",
   "metadata": {},
   "source": [
    "get dev data"
   ]
  },
  {
   "cell_type": "code",
   "execution_count": 7,
   "id": "ef27c8e2",
   "metadata": {},
   "outputs": [],
   "source": [
    "dev_data= pd.read_csv(r\"C:\\Users\\nick\\Code\\MachineLearning_Projects\\Bewerbung_NLP\\data\\v1\\v1\\dev.tsv\", sep= \"\\t\")"
   ]
  },
  {
   "cell_type": "code",
   "execution_count": 10,
   "id": "20c6fc3e",
   "metadata": {},
   "outputs": [
    {
     "data": {
      "text/html": [
       "<div>\n",
       "<style scoped>\n",
       "    .dataframe tbody tr th:only-of-type {\n",
       "        vertical-align: middle;\n",
       "    }\n",
       "\n",
       "    .dataframe tbody tr th {\n",
       "        vertical-align: top;\n",
       "    }\n",
       "\n",
       "    .dataframe thead th {\n",
       "        text-align: right;\n",
       "    }\n",
       "</style>\n",
       "<table border=\"1\" class=\"dataframe\">\n",
       "  <thead>\n",
       "    <tr style=\"text-align: right;\">\n",
       "      <th></th>\n",
       "      <th>text</th>\n",
       "      <th>label</th>\n",
       "    </tr>\n",
       "  </thead>\n",
       "  <tbody>\n",
       "    <tr>\n",
       "      <th>0</th>\n",
       "      <td>【 特写 ： 特朗普 在 联合国 的 90 分钟 记者会 】 特朗普 谈到 了 许多 问题 ...</td>\n",
       "      <td>1</td>\n",
       "    </tr>\n",
       "    <tr>\n",
       "      <th>1</th>\n",
       "      <td>米国 现在 在 川普 的 治理 下 ， 越来越 龌龊 和 出尔反尔 、 不可 预期 。 前 ...</td>\n",
       "      <td>1</td>\n",
       "    </tr>\n",
       "    <tr>\n",
       "      <th>2</th>\n",
       "      <td>本人 诚恳 的 向 首页 、 广场 的 各位 英雄好汉 、 姊妹 们 ！ 求 《 樱野三加 ...</td>\n",
       "      <td>1</td>\n",
       "    </tr>\n",
       "    <tr>\n",
       "      <th>3</th>\n",
       "      <td>沙特 官员 们 表示 ： 特朗普 在 伊朗 制裁 上 缺乏 坦率 ， 感觉 沙特 被 美国 ...</td>\n",
       "      <td>0</td>\n",
       "    </tr>\n",
       "    <tr>\n",
       "      <th>4</th>\n",
       "      <td>人权 也好 ， 尊严 也罢 ， 都 是 普世 价值 ， 不能 搞 内外有别 的 双重标准 。...</td>\n",
       "      <td>0</td>\n",
       "    </tr>\n",
       "    <tr>\n",
       "      <th>...</th>\n",
       "      <td>...</td>\n",
       "      <td>...</td>\n",
       "    </tr>\n",
       "    <tr>\n",
       "      <th>184</th>\n",
       "      <td>禁止 过洋 节 过 圣诞 都 能 扯 到 八国联军 侵华 ？ 还 能 扯 到 爱国 和 宗教...</td>\n",
       "      <td>1</td>\n",
       "    </tr>\n",
       "    <tr>\n",
       "      <th>185</th>\n",
       "      <td>这个 文章 就 有点 无耻 了 ， 你 拿 一个 3000 多万 人口 国家 GDP 和 1...</td>\n",
       "      <td>0</td>\n",
       "    </tr>\n",
       "    <tr>\n",
       "      <th>186</th>\n",
       "      <td>【 2018.10 . 21 】 1967 年 ， 老一辈 革命家 与 中央 文革 小组 错...</td>\n",
       "      <td>0</td>\n",
       "    </tr>\n",
       "    <tr>\n",
       "      <th>187</th>\n",
       "      <td>周子 瑜 太 撩 了 不是 台独 ， 也 不屑于 买 热 搜 ， 南韩 、 霓虹 实红 ， ...</td>\n",
       "      <td>1</td>\n",
       "    </tr>\n",
       "    <tr>\n",
       "      <th>188</th>\n",
       "      <td>美国 总统 唐纳德 · 特朗普 表示 ， 在 收到 中国 对 他 要求 的 回应 后 ， 他...</td>\n",
       "      <td>1</td>\n",
       "    </tr>\n",
       "  </tbody>\n",
       "</table>\n",
       "<p>189 rows × 2 columns</p>\n",
       "</div>"
      ],
      "text/plain": [
       "                                                  text  label\n",
       "0    【 特写 ： 特朗普 在 联合国 的 90 分钟 记者会 】 特朗普 谈到 了 许多 问题 ...      1\n",
       "1    米国 现在 在 川普 的 治理 下 ， 越来越 龌龊 和 出尔反尔 、 不可 预期 。 前 ...      1\n",
       "2    本人 诚恳 的 向 首页 、 广场 的 各位 英雄好汉 、 姊妹 们 ！ 求 《 樱野三加 ...      1\n",
       "3    沙特 官员 们 表示 ： 特朗普 在 伊朗 制裁 上 缺乏 坦率 ， 感觉 沙特 被 美国 ...      0\n",
       "4    人权 也好 ， 尊严 也罢 ， 都 是 普世 价值 ， 不能 搞 内外有别 的 双重标准 。...      0\n",
       "..                                                 ...    ...\n",
       "184  禁止 过洋 节 过 圣诞 都 能 扯 到 八国联军 侵华 ？ 还 能 扯 到 爱国 和 宗教...      1\n",
       "185  这个 文章 就 有点 无耻 了 ， 你 拿 一个 3000 多万 人口 国家 GDP 和 1...      0\n",
       "186  【 2018.10 . 21 】 1967 年 ， 老一辈 革命家 与 中央 文革 小组 错...      0\n",
       "187  周子 瑜 太 撩 了 不是 台独 ， 也 不屑于 买 热 搜 ， 南韩 、 霓虹 实红 ， ...      1\n",
       "188  美国 总统 唐纳德 · 特朗普 表示 ， 在 收到 中国 对 他 要求 的 回应 后 ， 他...      1\n",
       "\n",
       "[189 rows x 2 columns]"
      ]
     },
     "execution_count": 10,
     "metadata": {},
     "output_type": "execute_result"
    }
   ],
   "source": [
    "dev_data\n"
   ]
  },
  {
   "cell_type": "code",
   "execution_count": 7,
   "id": "25a0ad96",
   "metadata": {},
   "outputs": [],
   "source": [
    "en_train_data=pd.read_csv(r\"C:\\Users\\nick\\Code\\MachineLearning_Projects\\Bewerbung_NLP\\data\\selfmade\\en_train.csv\")"
   ]
  },
  {
   "cell_type": "code",
   "execution_count": null,
   "id": "fc151db1",
   "metadata": {},
   "outputs": [],
   "source": [
    "en_dev_data =pd.read_csv(r\"C:\\Users\\nick\\Code\\MachineLearning_Projects\\Bewerbung_NLP\\data\\selfmade\\en_dev_2.csv\")"
   ]
  },
  {
   "cell_type": "markdown",
   "id": "4b2ba64c",
   "metadata": {},
   "source": [
    "# 3. explore data"
   ]
  },
  {
   "cell_type": "code",
   "execution_count": 26,
   "id": "137ebbd6",
   "metadata": {},
   "outputs": [
    {
     "data": {
      "text/plain": [
       "'【 特写 ： 特朗普 在 联合国 的 90 分钟 记者会 】 特朗普 谈到 了 许多 问题 ， 从 围绕 他 的 美国最高法院 大法官 提名 人 的 争议 、 到 美联储 加息 、 中国 、 再 到 他 的 脑 容量 。 O 特写 ： 特朗普 在 联合国 的 90 分钟 记者会'"
      ]
     },
     "execution_count": 26,
     "metadata": {},
     "output_type": "execute_result"
    }
   ],
   "source": [
    "dev_data.iloc[0][\"text\"]"
   ]
  },
  {
   "cell_type": "markdown",
   "id": "02c50fd7",
   "metadata": {},
   "source": [
    "count the number of word in the entire datasets"
   ]
  },
  {
   "cell_type": "code",
   "execution_count": null,
   "id": "18d9abed",
   "metadata": {},
   "outputs": [],
   "source": []
  }
 ],
 "metadata": {
  "kernelspec": {
   "display_name": "Python 3 (ipykernel)",
   "language": "python",
   "name": "python3"
  },
  "language_info": {
   "codemirror_mode": {
    "name": "ipython",
    "version": 3
   },
   "file_extension": ".py",
   "mimetype": "text/x-python",
   "name": "python",
   "nbconvert_exporter": "python",
   "pygments_lexer": "ipython3",
   "version": "3.8.6"
  }
 },
 "nbformat": 4,
 "nbformat_minor": 5
}
